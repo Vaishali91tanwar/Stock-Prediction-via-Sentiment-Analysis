{
 "cells": [
  {
   "cell_type": "markdown",
   "metadata": {},
   "source": [
    "# 1. Import Libraries"
   ]
  },
  {
   "cell_type": "code",
   "execution_count": 1,
   "metadata": {},
   "outputs": [
    {
     "name": "stdout",
     "output_type": "stream",
     "text": [
      "2.0.0\n",
      "/Users/shui/Desktop/BSC/UT-TOR-DATA-PT-01-2020-U-C-Master/23-Final-Project: ['.DS_Store', '1', 'machine-learning-project', '2']\n",
      "/Users/shui/Desktop/BSC/UT-TOR-DATA-PT-01-2020-U-C-Master/23-Final-Project/machine-learning-project: ['stock_prediction_amazon.ipynb', 'raw_stock', '.DS_Store', 'stock_prediction_apple.ipynb', 'predicted_stock', 'stock_prediction_facebook.ipynb', 'stock.ipynb', 'stock_prediction_microsoft.ipynb', 'stock_prediction_tesla.ipynb', 'README.md', 'stock_prediction_google.ipynb', '.ipynb_checkpoints', '.git']\n"
     ]
    }
   ],
   "source": [
    "import numpy as np\n",
    "import pandas as pd\n",
    "import math\n",
    "import sklearn\n",
    "import sklearn.preprocessing\n",
    "import datetime\n",
    "import os\n",
    "import matplotlib.pyplot as plt\n",
    "import tensorflow as tf\n",
    "print(tf.__version__)\n",
    "\n",
    "# split data in 80%/10%/10% train/validation/test sets\n",
    "valid_set_size_percentage = 10 \n",
    "test_set_size_percentage = 10 \n",
    "\n",
    "#display parent directory and working directory\n",
    "print(os.path.dirname(os.getcwd())+':', os.listdir(os.path.dirname(os.getcwd())));\n",
    "print(os.getcwd()+':', os.listdir(os.getcwd()));"
   ]
  },
  {
   "cell_type": "markdown",
   "metadata": {},
   "source": [
    "# 2. Analyze Data"
   ]
  },
  {
   "cell_type": "code",
   "execution_count": 2,
   "metadata": {},
   "outputs": [
    {
     "name": "stdout",
     "output_type": "stream",
     "text": [
      "<class 'pandas.core.frame.DataFrame'>\n",
      "RangeIndex: 1511 entries, 0 to 1510\n",
      "Data columns (total 11 columns):\n",
      "Date            1511 non-null object\n",
      "Open            1511 non-null float64\n",
      "High            1511 non-null float64\n",
      "Low             1511 non-null float64\n",
      "Close           1511 non-null float64\n",
      "Volume          1511 non-null int64\n",
      "Dividends       1511 non-null int64\n",
      "Stock Splits    1511 non-null int64\n",
      "Change          1511 non-null float64\n",
      "%Change         1511 non-null object\n",
      "Result          1511 non-null float64\n",
      "dtypes: float64(6), int64(3), object(2)\n",
      "memory usage: 130.0+ KB\n"
     ]
    },
    {
     "data": {
      "text/html": [
       "<div>\n",
       "<style scoped>\n",
       "    .dataframe tbody tr th:only-of-type {\n",
       "        vertical-align: middle;\n",
       "    }\n",
       "\n",
       "    .dataframe tbody tr th {\n",
       "        vertical-align: top;\n",
       "    }\n",
       "\n",
       "    .dataframe thead th {\n",
       "        text-align: right;\n",
       "    }\n",
       "</style>\n",
       "<table border=\"1\" class=\"dataframe\">\n",
       "  <thead>\n",
       "    <tr style=\"text-align: right;\">\n",
       "      <th></th>\n",
       "      <th>Date</th>\n",
       "      <th>Open</th>\n",
       "      <th>High</th>\n",
       "      <th>Low</th>\n",
       "      <th>Close</th>\n",
       "      <th>Volume</th>\n",
       "      <th>Dividends</th>\n",
       "      <th>Stock Splits</th>\n",
       "      <th>Change</th>\n",
       "      <th>%Change</th>\n",
       "      <th>Result</th>\n",
       "    </tr>\n",
       "  </thead>\n",
       "  <tbody>\n",
       "    <tr>\n",
       "      <td>0</td>\n",
       "      <td>2014-07-22</td>\n",
       "      <td>222.19</td>\n",
       "      <td>223.30</td>\n",
       "      <td>219.11</td>\n",
       "      <td>219.58</td>\n",
       "      <td>2730000</td>\n",
       "      <td>0</td>\n",
       "      <td>0</td>\n",
       "      <td>-2.61</td>\n",
       "      <td>-1.17%</td>\n",
       "      <td>0.0</td>\n",
       "    </tr>\n",
       "    <tr>\n",
       "      <td>1</td>\n",
       "      <td>2014-07-23</td>\n",
       "      <td>220.01</td>\n",
       "      <td>224.75</td>\n",
       "      <td>219.43</td>\n",
       "      <td>222.49</td>\n",
       "      <td>3083300</td>\n",
       "      <td>0</td>\n",
       "      <td>0</td>\n",
       "      <td>2.48</td>\n",
       "      <td>1.13%</td>\n",
       "      <td>1.0</td>\n",
       "    </tr>\n",
       "    <tr>\n",
       "      <td>2</td>\n",
       "      <td>2014-07-24</td>\n",
       "      <td>223.25</td>\n",
       "      <td>225.10</td>\n",
       "      <td>220.80</td>\n",
       "      <td>223.54</td>\n",
       "      <td>3245500</td>\n",
       "      <td>0</td>\n",
       "      <td>0</td>\n",
       "      <td>0.29</td>\n",
       "      <td>0.13%</td>\n",
       "      <td>1.0</td>\n",
       "    </tr>\n",
       "    <tr>\n",
       "      <td>3</td>\n",
       "      <td>2014-07-25</td>\n",
       "      <td>222.72</td>\n",
       "      <td>226.97</td>\n",
       "      <td>221.75</td>\n",
       "      <td>223.57</td>\n",
       "      <td>3087100</td>\n",
       "      <td>0</td>\n",
       "      <td>0</td>\n",
       "      <td>0.85</td>\n",
       "      <td>0.38%</td>\n",
       "      <td>1.0</td>\n",
       "    </tr>\n",
       "    <tr>\n",
       "      <td>4</td>\n",
       "      <td>2014-07-28</td>\n",
       "      <td>224.25</td>\n",
       "      <td>232.00</td>\n",
       "      <td>221.40</td>\n",
       "      <td>224.82</td>\n",
       "      <td>6514300</td>\n",
       "      <td>0</td>\n",
       "      <td>0</td>\n",
       "      <td>0.57</td>\n",
       "      <td>0.25%</td>\n",
       "      <td>1.0</td>\n",
       "    </tr>\n",
       "  </tbody>\n",
       "</table>\n",
       "</div>"
      ],
      "text/plain": [
       "         Date    Open    High     Low   Close   Volume  Dividends  \\\n",
       "0  2014-07-22  222.19  223.30  219.11  219.58  2730000          0   \n",
       "1  2014-07-23  220.01  224.75  219.43  222.49  3083300          0   \n",
       "2  2014-07-24  223.25  225.10  220.80  223.54  3245500          0   \n",
       "3  2014-07-25  222.72  226.97  221.75  223.57  3087100          0   \n",
       "4  2014-07-28  224.25  232.00  221.40  224.82  6514300          0   \n",
       "\n",
       "   Stock Splits  Change %Change  Result  \n",
       "0             0   -2.61  -1.17%     0.0  \n",
       "1             0    2.48   1.13%     1.0  \n",
       "2             0    0.29   0.13%     1.0  \n",
       "3             0    0.85   0.38%     1.0  \n",
       "4             0    0.57   0.25%     1.0  "
      ]
     },
     "execution_count": 2,
     "metadata": {},
     "output_type": "execute_result"
    }
   ],
   "source": [
    "# import all stock prices \n",
    "df = pd.read_csv(\"data/raw_stock/tesla_stock.csv\")\n",
    "df.info()\n",
    "df.head()"
   ]
  },
  {
   "cell_type": "code",
   "execution_count": 3,
   "metadata": {},
   "outputs": [
    {
     "data": {
      "text/html": [
       "<div>\n",
       "<style scoped>\n",
       "    .dataframe tbody tr th:only-of-type {\n",
       "        vertical-align: middle;\n",
       "    }\n",
       "\n",
       "    .dataframe tbody tr th {\n",
       "        vertical-align: top;\n",
       "    }\n",
       "\n",
       "    .dataframe thead th {\n",
       "        text-align: right;\n",
       "    }\n",
       "</style>\n",
       "<table border=\"1\" class=\"dataframe\">\n",
       "  <thead>\n",
       "    <tr style=\"text-align: right;\">\n",
       "      <th></th>\n",
       "      <th>Date</th>\n",
       "      <th>Open</th>\n",
       "      <th>High</th>\n",
       "      <th>Low</th>\n",
       "      <th>Close</th>\n",
       "      <th>Volume</th>\n",
       "      <th>Dividends</th>\n",
       "      <th>Stock Splits</th>\n",
       "      <th>Change</th>\n",
       "      <th>%Change</th>\n",
       "      <th>Result</th>\n",
       "    </tr>\n",
       "  </thead>\n",
       "  <tbody>\n",
       "    <tr>\n",
       "      <td>0</td>\n",
       "      <td>2014-07-22</td>\n",
       "      <td>222.19</td>\n",
       "      <td>223.30</td>\n",
       "      <td>219.11</td>\n",
       "      <td>219.58</td>\n",
       "      <td>2730000</td>\n",
       "      <td>0</td>\n",
       "      <td>0</td>\n",
       "      <td>-2.61</td>\n",
       "      <td>-1.17%</td>\n",
       "      <td>0.0</td>\n",
       "    </tr>\n",
       "    <tr>\n",
       "      <td>1</td>\n",
       "      <td>2014-07-23</td>\n",
       "      <td>220.01</td>\n",
       "      <td>224.75</td>\n",
       "      <td>219.43</td>\n",
       "      <td>222.49</td>\n",
       "      <td>3083300</td>\n",
       "      <td>0</td>\n",
       "      <td>0</td>\n",
       "      <td>2.48</td>\n",
       "      <td>1.13%</td>\n",
       "      <td>1.0</td>\n",
       "    </tr>\n",
       "    <tr>\n",
       "      <td>2</td>\n",
       "      <td>2014-07-24</td>\n",
       "      <td>223.25</td>\n",
       "      <td>225.10</td>\n",
       "      <td>220.80</td>\n",
       "      <td>223.54</td>\n",
       "      <td>3245500</td>\n",
       "      <td>0</td>\n",
       "      <td>0</td>\n",
       "      <td>0.29</td>\n",
       "      <td>0.13%</td>\n",
       "      <td>1.0</td>\n",
       "    </tr>\n",
       "    <tr>\n",
       "      <td>3</td>\n",
       "      <td>2014-07-25</td>\n",
       "      <td>222.72</td>\n",
       "      <td>226.97</td>\n",
       "      <td>221.75</td>\n",
       "      <td>223.57</td>\n",
       "      <td>3087100</td>\n",
       "      <td>0</td>\n",
       "      <td>0</td>\n",
       "      <td>0.85</td>\n",
       "      <td>0.38%</td>\n",
       "      <td>1.0</td>\n",
       "    </tr>\n",
       "    <tr>\n",
       "      <td>4</td>\n",
       "      <td>2014-07-28</td>\n",
       "      <td>224.25</td>\n",
       "      <td>232.00</td>\n",
       "      <td>221.40</td>\n",
       "      <td>224.82</td>\n",
       "      <td>6514300</td>\n",
       "      <td>0</td>\n",
       "      <td>0</td>\n",
       "      <td>0.57</td>\n",
       "      <td>0.25%</td>\n",
       "      <td>1.0</td>\n",
       "    </tr>\n",
       "  </tbody>\n",
       "</table>\n",
       "</div>"
      ],
      "text/plain": [
       "        Date    Open    High     Low   Close   Volume  Dividends  \\\n",
       "0 2014-07-22  222.19  223.30  219.11  219.58  2730000          0   \n",
       "1 2014-07-23  220.01  224.75  219.43  222.49  3083300          0   \n",
       "2 2014-07-24  223.25  225.10  220.80  223.54  3245500          0   \n",
       "3 2014-07-25  222.72  226.97  221.75  223.57  3087100          0   \n",
       "4 2014-07-28  224.25  232.00  221.40  224.82  6514300          0   \n",
       "\n",
       "   Stock Splits  Change %Change  Result  \n",
       "0             0   -2.61  -1.17%     0.0  \n",
       "1             0    2.48   1.13%     1.0  \n",
       "2             0    0.29   0.13%     1.0  \n",
       "3             0    0.85   0.38%     1.0  \n",
       "4             0    0.57   0.25%     1.0  "
      ]
     },
     "execution_count": 3,
     "metadata": {},
     "output_type": "execute_result"
    }
   ],
   "source": [
    "#df = df.drop(['Dividends','Stock Splits'],1,inplace=True)\n",
    "#df.describe()\n",
    "df['Date'] = pd.to_datetime(df.Date,format='%Y-%m-%d')\n",
    "df.index = df['Date']\n",
    "df.reset_index(drop = True, inplace = True)\n",
    "df.head()"
   ]
  },
  {
   "cell_type": "code",
   "execution_count": 4,
   "metadata": {},
   "outputs": [
    {
     "name": "stderr",
     "output_type": "stream",
     "text": [
      "/Applications/anaconda3/lib/python3.7/site-packages/pandas/plotting/_matplotlib/converter.py:103: FutureWarning: Using an implicitly registered datetime converter for a matplotlib plotting method. The converter was registered by pandas on import. Future versions of pandas will require you to explicitly register matplotlib converters.\n",
      "\n",
      "To register the converters:\n",
      "\t>>> from pandas.plotting import register_matplotlib_converters\n",
      "\t>>> register_matplotlib_converters()\n",
      "  warnings.warn(msg, FutureWarning)\n"
     ]
    },
    {
     "data": {
      "image/png": "[encoded data removed]",
      "text/plain": [
       "<Figure size 1080x360 with 2 Axes>"
      ]
     },
     "metadata": {
      "needs_background": "light"
     },
     "output_type": "display_data"
    }
   ],
   "source": [
    "plt.figure(figsize=(15, 5));\n",
    "plt.subplot(1,2,1);\n",
    "plt.plot(df.Date, df.Open.values, color='red', label='open')\n",
    "plt.plot(df.Date, df.Close.values, color='green', label='close')\n",
    "#plt.plot(df.Low.values, color='blue', label='low')\n",
    "#plt.plot(df.High.values, color='black', label='high')\n",
    "plt.title('stock price')\n",
    "plt.xlabel('year')\n",
    "plt.ylabel('price')\n",
    "plt.legend(loc='best')\n",
    "#plt.show()\n",
    "\n",
    "plt.subplot(1,2,2);\n",
    "plt.plot(df.Date, df.Volume.values, color='black', label='volume')\n",
    "plt.title('stock volume')\n",
    "plt.xlabel('year')\n",
    "plt.ylabel('volume')\n",
    "plt.legend(loc='best');"
   ]
  },
  {
   "cell_type": "markdown",
   "metadata": {},
   "source": [
    "# 3. Manipulate Data"
   ]
  },
  {
   "cell_type": "code",
   "execution_count": 5,
   "metadata": {},
   "outputs": [],
   "source": [
    "# function for min-max normalization of stock\n",
    "from sklearn.preprocessing import MinMaxScaler\n",
    "\n",
    "def normalize_data(df):\n",
    "    min_max_scaler = sklearn.preprocessing.MinMaxScaler()\n",
    "    df['Open'] = min_max_scaler.fit_transform(df.Open.values.reshape(-1,1))\n",
    "    df['High'] = min_max_scaler.fit_transform(df.High.values.reshape(-1,1))\n",
    "    df['Low'] = min_max_scaler.fit_transform(df.Low.values.reshape(-1,1))\n",
    "    df['Close'] = min_max_scaler.fit_transform(df.Close.values.reshape(-1,1))\n",
    "    return df"
   ]
  },
  {
   "cell_type": "code",
   "execution_count": 6,
   "metadata": {},
   "outputs": [],
   "source": [
    "# function to create train, validation, test data given stock data and sequence length\n",
    "def load_data(stock, seq_len):\n",
    "    data_raw = stock.as_matrix() # convert to numpy array\n",
    "    data = []\n",
    "    \n",
    "    # create all possible sequences of length seq_len\n",
    "    for index in range(len(data_raw) - seq_len): \n",
    "        data.append(data_raw[index: index + seq_len])\n",
    "    data = np.array(data);\n",
    "    valid_set_size = int(np.round(valid_set_size_percentage/100*data.shape[0]));  \n",
    "    test_set_size = int(np.round(test_set_size_percentage/100*data.shape[0]));\n",
    "    train_set_size = data.shape[0] - (valid_set_size + test_set_size);\n",
    "    \n",
    "    x_train = data[:train_set_size,:-1,:]\n",
    "    y_train = data[:train_set_size,-1,:]\n",
    "    \n",
    "    x_valid = data[train_set_size:train_set_size+valid_set_size,:-1,:]\n",
    "    y_valid = data[train_set_size:train_set_size+valid_set_size,-1,:]\n",
    "    \n",
    "    x_test = data[train_set_size+valid_set_size:,:-1,:]\n",
    "    y_test = data[train_set_size+valid_set_size:,-1,:]\n",
    "    \n",
    "    return [x_train, y_train, x_valid, y_valid, x_test, y_test]"
   ]
  },
  {
   "cell_type": "code",
   "execution_count": 8,
   "metadata": {},
   "outputs": [
    {
     "name": "stdout",
     "output_type": "stream",
     "text": [
      "df_stock.columns.values =  ['Open', 'High', 'Low', 'Close']\n",
      "X_train.shape =  (1193, 19, 4)\n",
      "y_train.shape =  (1193, 4)\n",
      "X_valid.shape =  (149, 19, 4)\n",
      "y_valid.shape =  (149, 4)\n",
      "X_test.shape =  (149, 19, 4)\n",
      "y_test.shape =  (149, 4)\n"
     ]
    },
    {
     "name": "stderr",
     "output_type": "stream",
     "text": [
      "/Applications/anaconda3/lib/python3.7/site-packages/ipykernel_launcher.py:3: FutureWarning: Method .as_matrix will be removed in a future version. Use .values instead.\n",
      "  This is separate from the ipykernel package so we can avoid doing imports until\n"
     ]
    }
   ],
   "source": [
    "# choose one stock\n",
    "df_stock = df.copy()\n",
    "df_stock.drop(['Date'],1,inplace=True)\n",
    "df_stock.drop(['Volume'],1,inplace=True)\n",
    "df_stock.drop(['Dividends'],1,inplace=True)\n",
    "df_stock.drop(['Stock Splits'],1,inplace=True)\n",
    "df_stock.drop(['Change'],1,inplace=True)\n",
    "df_stock.drop(['%Change'],1,inplace=True)\n",
    "df_stock.drop(['Result'],1,inplace=True)\n",
    "\n",
    "cols = list(df_stock.columns.values)\n",
    "print('df_stock.columns.values = ', cols)\n",
    "\n",
    "# normalize stock\n",
    "#df_stock_norm = df_stock.copy()\n",
    "df_stock_norm = normalize_data(df_stock)\n",
    "df_stock_norm\n",
    "\n",
    "# create train, test data\n",
    "seq_len = 20 # choose sequence length\n",
    "X_train, y_train, X_valid, y_valid, X_test, y_test = load_data(df_stock_norm, seq_len)\n",
    "print('X_train.shape = ',X_train.shape)\n",
    "print('y_train.shape = ', y_train.shape)\n",
    "print('X_valid.shape = ',X_valid.shape)\n",
    "print('y_valid.shape = ', y_valid.shape)\n",
    "print('X_test.shape = ', X_test.shape)\n",
    "print('y_test.shape = ',y_test.shape)"
   ]
  },
  {
   "cell_type": "code",
   "execution_count": 9,
   "metadata": {},
   "outputs": [
    {
     "data": {
      "image/png": "[encoded data removed]",
      "text/plain": [
       "<Figure size 1080x360 with 1 Axes>"
      ]
     },
     "metadata": {
      "needs_background": "light"
     },
     "output_type": "display_data"
    }
   ],
   "source": [
    "plt.figure(figsize=(15, 5));\n",
    "plt.plot(df.Date, df_stock_norm.Open.values, color='red', label='open')\n",
    "plt.plot(df.Date, df_stock_norm.Close.values, color='green', label='close')\n",
    "plt.plot(df.Date, df_stock_norm.Low.values, color='blue', label='low')\n",
    "plt.plot(df.Date, df_stock_norm.High.values, color='black', label='high')\n",
    "#plt.plot(df.index, df_stock_norm.Volume.values, color='gray', label='volume')\n",
    "plt.title('stock')\n",
    "plt.xlabel('year')\n",
    "plt.ylabel('normalized price')\n",
    "plt.legend(loc='best')\n",
    "plt.show()"
   ]
  },
  {
   "cell_type": "code",
   "execution_count": 74,
   "metadata": {},
   "outputs": [
    {
     "data": {
      "text/html": [
       "<div>\n",
       "<style scoped>\n",
       "    .dataframe tbody tr th:only-of-type {\n",
       "        vertical-align: middle;\n",
       "    }\n",
       "\n",
       "    .dataframe tbody tr th {\n",
       "        vertical-align: top;\n",
       "    }\n",
       "\n",
       "    .dataframe thead th {\n",
       "        text-align: right;\n",
       "    }\n",
       "</style>\n",
       "<table border=\"1\" class=\"dataframe\">\n",
       "  <thead>\n",
       "    <tr style=\"text-align: right;\">\n",
       "      <th></th>\n",
       "      <th>Open</th>\n",
       "      <th>High</th>\n",
       "      <th>Low</th>\n",
       "      <th>Close</th>\n",
       "    </tr>\n",
       "    <tr>\n",
       "      <th>Date</th>\n",
       "      <th></th>\n",
       "      <th></th>\n",
       "      <th></th>\n",
       "      <th></th>\n",
       "    </tr>\n",
       "  </thead>\n",
       "  <tbody>\n",
       "    <tr>\n",
       "      <td>2020-07-15</td>\n",
       "      <td>0.923517</td>\n",
       "      <td>0.850618</td>\n",
       "      <td>0.928720</td>\n",
       "      <td>0.935311</td>\n",
       "    </tr>\n",
       "    <tr>\n",
       "      <td>2020-07-16</td>\n",
       "      <td>0.880107</td>\n",
       "      <td>0.839465</td>\n",
       "      <td>0.935072</td>\n",
       "      <td>0.905051</td>\n",
       "    </tr>\n",
       "    <tr>\n",
       "      <td>2020-07-17</td>\n",
       "      <td>0.904034</td>\n",
       "      <td>0.843002</td>\n",
       "      <td>0.952010</td>\n",
       "      <td>0.905184</td>\n",
       "    </tr>\n",
       "    <tr>\n",
       "      <td>2020-07-20</td>\n",
       "      <td>0.907700</td>\n",
       "      <td>0.911593</td>\n",
       "      <td>0.950598</td>\n",
       "      <td>1.000000</td>\n",
       "    </tr>\n",
       "    <tr>\n",
       "      <td>2020-07-21</td>\n",
       "      <td>0.987426</td>\n",
       "      <td>0.926836</td>\n",
       "      <td>1.000000</td>\n",
       "      <td>0.950218</td>\n",
       "    </tr>\n",
       "  </tbody>\n",
       "</table>\n",
       "</div>"
      ],
      "text/plain": [
       "                Open      High       Low     Close\n",
       "Date                                              \n",
       "2020-07-15  0.923517  0.850618  0.928720  0.935311\n",
       "2020-07-16  0.880107  0.839465  0.935072  0.905051\n",
       "2020-07-17  0.904034  0.843002  0.952010  0.905184\n",
       "2020-07-20  0.907700  0.911593  0.950598  1.000000\n",
       "2020-07-21  0.987426  0.926836  1.000000  0.950218"
      ]
     },
     "execution_count": 74,
     "metadata": {},
     "output_type": "execute_result"
    }
   ],
   "source": [
    "normalized_df = df_stock_norm\n",
    "normalized_df.index = df.Date\n",
    "normalized_df\n",
    "normalized_df.to_csv(\"data/normalized_stock/tesla_stock.csv\")\n",
    "normalized_df.tail()"
   ]
  },
  {
   "cell_type": "markdown",
   "metadata": {},
   "source": [
    "# 4. Model and Validate Data"
   ]
  },
  {
   "cell_type": "code",
   "execution_count": 10,
   "metadata": {},
   "outputs": [],
   "source": [
    "index_in_epoch = 0;\n",
    "perm_array  = np.arange(X_train.shape[0])\n",
    "np.random.shuffle(perm_array)\n",
    "\n",
    "# function to get the next batch\n",
    "def get_next_batch(batch_size):\n",
    "    global index_in_epoch, X_train, perm_array   \n",
    "    start = index_in_epoch\n",
    "    index_in_epoch += batch_size\n",
    "    \n",
    "    if index_in_epoch > X_train.shape[0]:\n",
    "        np.random.shuffle(perm_array) # shuffle permutation array\n",
    "        start = 0 # start next epoch\n",
    "        index_in_epoch = batch_size\n",
    "        \n",
    "    end = index_in_epoch\n",
    "    return X_train[perm_array[start:end]], y_train[perm_array[start:end]]"
   ]
  },
  {
   "cell_type": "code",
   "execution_count": 11,
   "metadata": {},
   "outputs": [
    {
     "name": "stdout",
     "output_type": "stream",
     "text": [
      "WARNING:tensorflow:From /Applications/anaconda3/lib/python3.7/site-packages/tensorflow_core/python/compat/v2_compat.py:65: disable_resource_variables (from tensorflow.python.ops.variable_scope) is deprecated and will be removed in a future version.\n",
      "Instructions for updating:\n",
      "non-resource variables are not supported in the long term\n"
     ]
    }
   ],
   "source": [
    "import tensorflow.compat.v1 as tf_v1\n",
    "tf_v1.disable_v2_behavior() ##print(tf.__version__)\n",
    "# parameters\n",
    "n_steps = seq_len-1 \n",
    "n_inputs = 4 \n",
    "n_neurons = 200 \n",
    "n_outputs = 4\n",
    "n_layers = 2\n",
    "learning_rate = 0.001\n",
    "batch_size = 50\n",
    "n_epochs = 100 \n",
    "train_set_size = X_train.shape[0]\n",
    "test_set_size = X_test.shape[0]\n",
    "\n",
    "tf_v1.reset_default_graph()\n",
    "\n",
    "X = tf_v1.placeholder(tf_v1.float32, [None, n_steps, n_inputs])\n",
    "y = tf_v1.placeholder(tf_v1.float32, [None, n_outputs])\n"
   ]
  },
  {
   "cell_type": "code",
   "execution_count": 12,
   "metadata": {},
   "outputs": [
    {
     "name": "stdout",
     "output_type": "stream",
     "text": [
      "WARNING:tensorflow:From <ipython-input-12-6baa4b023ae9>:6: BasicRNNCell.__init__ (from tensorflow.python.ops.rnn_cell_impl) is deprecated and will be removed in a future version.\n",
      "Instructions for updating:\n",
      "This class is equivalent as tf.keras.layers.SimpleRNNCell, and will be replaced by that in Tensorflow 2.0.\n"
     ]
    }
   ],
   "source": [
    "from tensorflow.keras.layers import Dense\n",
    "# use Basic RNN Cell\n",
    "#layers = [tf.contrib.rnn.BasicRNNCell(num_units=n_neurons, activation=tf_v1.nn.elu)\n",
    "#          for layer in range(n_layers)]\n",
    "layers = [tf_v1.nn.rnn_cell.BasicRNNCell(num_units=n_neurons, activation=tf_v1.nn.elu)\n",
    "          for layer in range(n_layers)]\n",
    "# use Basic LSTM Cell \n",
    "#layers = [tf.contrib.rnn.BasicLSTMCell(num_units=n_neurons, activation=tf.nn.elu)\n",
    "#          for layer in range(n_layers)]\n",
    "\n",
    "# use LSTM Cell with peephole connections\n",
    "#layers = [tf.contrib.rnn.LSTMCell(num_units=n_neurons, \n",
    "#                                  activation=tf.nn.leaky_relu, use_peepholes = True)\n",
    "#          for layer in range(n_layers)]\n",
    "\n",
    "# use GRU cell\n",
    "#layers = [tf.contrib.rnn.GRUCell(num_units=n_neurons, activation=tf.nn.leaky_relu)\n",
    "#          for layer in range(n_layers)]\n",
    "                                           "
   ]
  },
  {
   "cell_type": "code",
   "execution_count": 13,
   "metadata": {},
   "outputs": [
    {
     "name": "stdout",
     "output_type": "stream",
     "text": [
      "WARNING:tensorflow:From <ipython-input-13-8a5e4860ccdc>:1: MultiRNNCell.__init__ (from tensorflow.python.ops.rnn_cell_impl) is deprecated and will be removed in a future version.\n",
      "Instructions for updating:\n",
      "This class is equivalent as tf.keras.layers.StackedRNNCells, and will be replaced by that in Tensorflow 2.0.\n",
      "WARNING:tensorflow:From <ipython-input-13-8a5e4860ccdc>:2: dynamic_rnn (from tensorflow.python.ops.rnn) is deprecated and will be removed in a future version.\n",
      "Instructions for updating:\n",
      "Please use `keras.layers.RNN(cell)`, which is equivalent to this API\n",
      "WARNING:tensorflow:From /Applications/anaconda3/lib/python3.7/site-packages/tensorflow_core/python/ops/rnn_cell_impl.py:456: Layer.add_variable (from tensorflow.python.keras.engine.base_layer) is deprecated and will be removed in a future version.\n",
      "Instructions for updating:\n",
      "Please use `layer.add_weight` method instead.\n",
      "WARNING:tensorflow:From /Applications/anaconda3/lib/python3.7/site-packages/tensorflow_core/python/ops/rnn_cell_impl.py:460: calling Zeros.__init__ (from tensorflow.python.ops.init_ops) with dtype is deprecated and will be removed in a future version.\n",
      "Instructions for updating:\n",
      "Call initializer instance with the dtype argument instead of passing it to the constructor\n",
      "WARNING:tensorflow:From <ipython-input-13-8a5e4860ccdc>:5: dense (from tensorflow.python.layers.core) is deprecated and will be removed in a future version.\n",
      "Instructions for updating:\n",
      "Use keras.layers.Dense instead.\n",
      "WARNING:tensorflow:From /Applications/anaconda3/lib/python3.7/site-packages/tensorflow_core/python/layers/core.py:187: Layer.apply (from tensorflow.python.keras.engine.base_layer) is deprecated and will be removed in a future version.\n",
      "Instructions for updating:\n",
      "Please use `layer.__call__` method instead.\n"
     ]
    }
   ],
   "source": [
    "multi_layer_cell = tf_v1.nn.rnn_cell.MultiRNNCell(layers)\n",
    "rnn_outputs, states = tf_v1.nn.dynamic_rnn(multi_layer_cell, X, dtype=tf.float32)\n",
    "\n",
    "stacked_rnn_outputs = tf_v1.reshape(rnn_outputs, [-1, n_neurons]) \n",
    "stacked_outputs = tf_v1.layers.dense(stacked_rnn_outputs, n_outputs)\n",
    "outputs = tf_v1.reshape(stacked_outputs, [-1, n_steps, n_outputs])\n",
    "outputs = outputs[:,n_steps-1,:] # keep only last output of sequence\n",
    "                                              "
   ]
  },
  {
   "cell_type": "code",
   "execution_count": 14,
   "metadata": {},
   "outputs": [
    {
     "name": "stdout",
     "output_type": "stream",
     "text": [
      "0.00 epochs: MSE train/valid = 0.065712/0.049111\n",
      "4.99 epochs: MSE train/valid = 0.000054/0.000065\n",
      "9.97 epochs: MSE train/valid = 0.000041/0.000051\n",
      "14.96 epochs: MSE train/valid = 0.000032/0.000039\n",
      "19.95 epochs: MSE train/valid = 0.000032/0.000035\n",
      "24.94 epochs: MSE train/valid = 0.000027/0.000032\n",
      "29.92 epochs: MSE train/valid = 0.000023/0.000027\n",
      "34.91 epochs: MSE train/valid = 0.000024/0.000027\n",
      "39.90 epochs: MSE train/valid = 0.000024/0.000025\n",
      "44.89 epochs: MSE train/valid = 0.000021/0.000025\n",
      "49.87 epochs: MSE train/valid = 0.000021/0.000023\n",
      "54.86 epochs: MSE train/valid = 0.000021/0.000024\n",
      "59.85 epochs: MSE train/valid = 0.000020/0.000023\n",
      "64.84 epochs: MSE train/valid = 0.000019/0.000024\n",
      "69.82 epochs: MSE train/valid = 0.000024/0.000029\n",
      "74.81 epochs: MSE train/valid = 0.000019/0.000025\n",
      "79.80 epochs: MSE train/valid = 0.000018/0.000023\n",
      "84.79 epochs: MSE train/valid = 0.000020/0.000024\n",
      "89.77 epochs: MSE train/valid = 0.000019/0.000023\n",
      "94.76 epochs: MSE train/valid = 0.000021/0.000025\n",
      "99.75 epochs: MSE train/valid = 0.000018/0.000022\n"
     ]
    }
   ],
   "source": [
    "loss = tf.reduce_mean(tf.square(outputs - y)) # loss function = mean squared error \n",
    "optimizer = tf_v1.train.AdamOptimizer(learning_rate=learning_rate) \n",
    "training_op = optimizer.minimize(loss)\n",
    "         \n",
    "# run graph\n",
    "with tf_v1.Session() as sess: \n",
    "    sess.run(tf_v1.global_variables_initializer())\n",
    "    for iteration in range(int(n_epochs*train_set_size/batch_size)):\n",
    "        X_batch, y_batch = get_next_batch(batch_size) # fetch the next training batch \n",
    "        sess.run(training_op, feed_dict={X: X_batch, y: y_batch}) \n",
    "        if iteration % int(5*train_set_size/batch_size) == 0:\n",
    "            mse_train = loss.eval(feed_dict={X: X_train, y: y_train}) \n",
    "            mse_valid = loss.eval(feed_dict={X: X_valid, y: y_valid}) \n",
    "            print('%.2f epochs: MSE train/valid = %.6f/%.6f'%(\n",
    "                iteration*batch_size/train_set_size, mse_train, mse_valid))\n",
    "\n",
    "    y_train_pred = sess.run(outputs, feed_dict={X: X_train})\n",
    "    y_valid_pred = sess.run(outputs, feed_dict={X: X_valid})\n",
    "    y_test_pred = sess.run(outputs, feed_dict={X: X_test})"
   ]
  },
  {
   "cell_type": "markdown",
   "metadata": {},
   "source": [
    "# 5. Predictions"
   ]
  },
  {
   "cell_type": "code",
   "execution_count": 15,
   "metadata": {},
   "outputs": [
    {
     "data": {
      "text/plain": [
       "(1193, 4)"
      ]
     },
     "execution_count": 15,
     "metadata": {},
     "output_type": "execute_result"
    }
   ],
   "source": [
    "y_train_pred.shape"
   ]
  },
  {
   "cell_type": "code",
   "execution_count": 16,
   "metadata": {},
   "outputs": [
    {
     "data": {
      "image/png": "[encoded data removed]",
      "text/plain": [
       "<Figure size 1080x360 with 2 Axes>"
      ]
     },
     "metadata": {
      "needs_background": "light"
     },
     "output_type": "display_data"
    }
   ],
   "source": [
    "ft = 0 # 0 = open, 1 = highest, 2 = lowest, 3 = close\n",
    "\n",
    "## show predictions\n",
    "\n",
    "plt.figure(figsize=(15, 5))\n",
    "plt.subplot(1,2,1)\n",
    "\n",
    "plt.plot(np.arange(y_train.shape[0]), y_train[:,ft], color='blue', label='train target')\n",
    "\n",
    "plt.plot(np.arange(y_train.shape[0], y_train.shape[0]+y_valid.shape[0]), y_valid[:,ft],\n",
    "         color='gray', label='valid target')\n",
    "\n",
    "plt.plot(np.arange(y_train.shape[0]+y_valid.shape[0],\n",
    "                   y_train.shape[0]+y_test.shape[0]+y_test.shape[0]),\n",
    "                   y_test[:,ft], color='black', label='test target')\n",
    "\n",
    "plt.plot(np.arange(y_train_pred.shape[0]),y_train_pred[:,ft], color='red',\n",
    "         label='train prediction')\n",
    "\n",
    "plt.plot(np.arange(y_train_pred.shape[0], y_train_pred.shape[0]+y_valid_pred.shape[0]),\n",
    "         y_valid_pred[:,ft], color='orange', label='valid prediction')\n",
    "\n",
    "plt.plot(np.arange(y_train_pred.shape[0]+y_valid_pred.shape[0],\n",
    "                   y_train_pred.shape[0]+y_valid_pred.shape[0]+y_test_pred.shape[0]),\n",
    "         y_test_pred[:,ft], color='green', label='test prediction')\n",
    "\n",
    "plt.title('past and future stock prices')\n",
    "plt.xlabel('days [2014-7-18]')\n",
    "plt.ylabel('normalized price')\n",
    "plt.legend(loc='best');\n",
    "plt.subplot(1,2,2);\n",
    "\n",
    "plt.plot(np.arange(y_train.shape[0], y_train.shape[0]+y_test.shape[0]),\n",
    "         y_test[:,ft], color='black', label='test target')\n",
    "\n",
    "plt.plot(np.arange(y_train_pred.shape[0], y_train_pred.shape[0]+y_test_pred.shape[0]),\n",
    "         y_test_pred[:,ft], color='green', label='test prediction')\n",
    "\n",
    "\n",
    "plt.title('future stock prices')\n",
    "plt.xlabel('days [2014-7-18]')\n",
    "plt.ylabel('normalized price')\n",
    "plt.legend(loc='best');"
   ]
  },
  {
   "cell_type": "code",
   "execution_count": 64,
   "metadata": {},
   "outputs": [
    {
     "data": {
      "text/plain": [
       "((1193, 4), (149, 4), (149, 4))"
      ]
     },
     "execution_count": 64,
     "metadata": {},
     "output_type": "execute_result"
    }
   ],
   "source": [
    "y_train.shape, y_valid.shape, y_test.shape"
   ]
  },
  {
   "cell_type": "code",
   "execution_count": 75,
   "metadata": {},
   "outputs": [
    {
     "data": {
      "text/html": [
       "<div>\n",
       "<style scoped>\n",
       "    .dataframe tbody tr th:only-of-type {\n",
       "        vertical-align: middle;\n",
       "    }\n",
       "\n",
       "    .dataframe tbody tr th {\n",
       "        vertical-align: top;\n",
       "    }\n",
       "\n",
       "    .dataframe thead th {\n",
       "        text-align: right;\n",
       "    }\n",
       "</style>\n",
       "<table border=\"1\" class=\"dataframe\">\n",
       "  <thead>\n",
       "    <tr style=\"text-align: right;\">\n",
       "      <th></th>\n",
       "      <th>Open</th>\n",
       "      <th>High</th>\n",
       "      <th>Low</th>\n",
       "      <th>Close</th>\n",
       "    </tr>\n",
       "    <tr>\n",
       "      <th>Date</th>\n",
       "      <th></th>\n",
       "      <th></th>\n",
       "      <th></th>\n",
       "      <th></th>\n",
       "    </tr>\n",
       "  </thead>\n",
       "  <tbody>\n",
       "    <tr>\n",
       "      <td>2020-07-15</td>\n",
       "      <td>0.932089</td>\n",
       "      <td>0.875008</td>\n",
       "      <td>0.910371</td>\n",
       "      <td>0.915829</td>\n",
       "    </tr>\n",
       "    <tr>\n",
       "      <td>2020-07-16</td>\n",
       "      <td>0.923517</td>\n",
       "      <td>0.850618</td>\n",
       "      <td>0.928720</td>\n",
       "      <td>0.935311</td>\n",
       "    </tr>\n",
       "    <tr>\n",
       "      <td>2020-07-17</td>\n",
       "      <td>0.880107</td>\n",
       "      <td>0.839465</td>\n",
       "      <td>0.935072</td>\n",
       "      <td>0.905051</td>\n",
       "    </tr>\n",
       "    <tr>\n",
       "      <td>2020-07-20</td>\n",
       "      <td>0.904034</td>\n",
       "      <td>0.843002</td>\n",
       "      <td>0.952010</td>\n",
       "      <td>0.905184</td>\n",
       "    </tr>\n",
       "    <tr>\n",
       "      <td>2020-07-21</td>\n",
       "      <td>0.907700</td>\n",
       "      <td>0.911593</td>\n",
       "      <td>0.950598</td>\n",
       "      <td>1.000000</td>\n",
       "    </tr>\n",
       "  </tbody>\n",
       "</table>\n",
       "</div>"
      ],
      "text/plain": [
       "                Open      High       Low     Close\n",
       "Date                                              \n",
       "2020-07-15  0.932089  0.875008  0.910371  0.915829\n",
       "2020-07-16  0.923517  0.850618  0.928720  0.935311\n",
       "2020-07-17  0.880107  0.839465  0.935072  0.905051\n",
       "2020-07-20  0.904034  0.843002  0.952010  0.905184\n",
       "2020-07-21  0.907700  0.911593  0.950598  1.000000"
      ]
     },
     "execution_count": 75,
     "metadata": {},
     "output_type": "execute_result"
    }
   ],
   "source": [
    "target_data = np.array([*y_train, *y_valid, *y_test])\n",
    "target_df = pd.DataFrame({'Open': target_data[:, 0], 'High': target_data[:,1], \n",
    "                             'Low': target_data[:,2], 'Close': target_data[:,3]})\n",
    "\n",
    "target_df.index = df.Date[20:]\n",
    "target_df.to_csv(\"data/target_stock/tesla_stock.csv\")\n",
    "target_df.tail()"
   ]
  },
  {
   "cell_type": "code",
   "execution_count": 76,
   "metadata": {},
   "outputs": [
    {
     "data": {
      "text/html": [
       "<div>\n",
       "<style scoped>\n",
       "    .dataframe tbody tr th:only-of-type {\n",
       "        vertical-align: middle;\n",
       "    }\n",
       "\n",
       "    .dataframe tbody tr th {\n",
       "        vertical-align: top;\n",
       "    }\n",
       "\n",
       "    .dataframe thead th {\n",
       "        text-align: right;\n",
       "    }\n",
       "</style>\n",
       "<table border=\"1\" class=\"dataframe\">\n",
       "  <thead>\n",
       "    <tr style=\"text-align: right;\">\n",
       "      <th></th>\n",
       "      <th>Open</th>\n",
       "      <th>High</th>\n",
       "      <th>Low</th>\n",
       "      <th>Close</th>\n",
       "    </tr>\n",
       "    <tr>\n",
       "      <th>Date</th>\n",
       "      <th></th>\n",
       "      <th></th>\n",
       "      <th></th>\n",
       "      <th></th>\n",
       "    </tr>\n",
       "  </thead>\n",
       "  <tbody>\n",
       "    <tr>\n",
       "      <td>2020-07-15</td>\n",
       "      <td>0.859517</td>\n",
       "      <td>0.806595</td>\n",
       "      <td>0.885066</td>\n",
       "      <td>0.836110</td>\n",
       "    </tr>\n",
       "    <tr>\n",
       "      <td>2020-07-16</td>\n",
       "      <td>0.826419</td>\n",
       "      <td>0.790893</td>\n",
       "      <td>0.838904</td>\n",
       "      <td>0.808702</td>\n",
       "    </tr>\n",
       "    <tr>\n",
       "      <td>2020-07-17</td>\n",
       "      <td>0.826005</td>\n",
       "      <td>0.789836</td>\n",
       "      <td>0.866629</td>\n",
       "      <td>0.815809</td>\n",
       "    </tr>\n",
       "    <tr>\n",
       "      <td>2020-07-20</td>\n",
       "      <td>0.820905</td>\n",
       "      <td>0.787686</td>\n",
       "      <td>0.862769</td>\n",
       "      <td>0.821399</td>\n",
       "    </tr>\n",
       "    <tr>\n",
       "      <td>2020-07-21</td>\n",
       "      <td>0.831759</td>\n",
       "      <td>0.790290</td>\n",
       "      <td>0.870158</td>\n",
       "      <td>0.823566</td>\n",
       "    </tr>\n",
       "  </tbody>\n",
       "</table>\n",
       "</div>"
      ],
      "text/plain": [
       "                Open      High       Low     Close\n",
       "Date                                              \n",
       "2020-07-15  0.859517  0.806595  0.885066  0.836110\n",
       "2020-07-16  0.826419  0.790893  0.838904  0.808702\n",
       "2020-07-17  0.826005  0.789836  0.866629  0.815809\n",
       "2020-07-20  0.820905  0.787686  0.862769  0.821399\n",
       "2020-07-21  0.831759  0.790290  0.870158  0.823566"
      ]
     },
     "execution_count": 76,
     "metadata": {},
     "output_type": "execute_result"
    }
   ],
   "source": [
    "predicted_data = np.array([*y_train_pred, *y_valid_pred, *y_test_pred])\n",
    "predicted_df = pd.DataFrame({'Open': predicted_data[:, 0], 'High': predicted_data[:,1], \n",
    "                             'Low': predicted_data[:,2], 'Close': predicted_data[:,3]})\n",
    "\n",
    "predicted_df.index = df.Date[20:]\n",
    "predicted_df.to_csv(\"data/predicted_stock/tesla_stock.csv\")\n",
    "predicted_df.tail()"
   ]
  },
  {
   "cell_type": "code",
   "execution_count": 37,
   "metadata": {},
   "outputs": [
    {
     "name": "stdout",
     "output_type": "stream",
     "text": [
      "correct sign prediction for close - open price for train/valid/test: 0.99/0.99/0.90\n"
     ]
    }
   ],
   "source": [
    "corr_price_development_train = np.sum(np.equal(np.sign(y_train[:,1]-y_train[:,0]),\n",
    "            np.sign(y_train_pred[:,1]-y_train_pred[:,0])).astype(int)) / y_train.shape[0]\n",
    "corr_price_development_valid = np.sum(np.equal(np.sign(y_valid[:,1]-y_valid[:,0]),\n",
    "            np.sign(y_valid_pred[:,1]-y_valid_pred[:,0])).astype(int)) / y_valid.shape[0]\n",
    "corr_price_development_test = np.sum(np.equal(np.sign(y_test[:,1]-y_test[:,0]),\n",
    "            np.sign(y_test_pred[:,1]-y_test_pred[:,0])).astype(int)) / y_test.shape[0]\n",
    "\n",
    "print('correct sign prediction for close - open price for train/valid/test: %.2f/%.2f/%.2f'%(\n",
    "    corr_price_development_train, corr_price_development_valid, corr_price_development_test))"
   ]
  },
  {
   "cell_type": "code",
   "execution_count": null,
   "metadata": {},
   "outputs": [],
   "source": []
  }
 ],
 "metadata": {
  "kernelspec": {
   "display_name": "PythonAdv",
   "language": "python",
   "name": "pythonadv"
  },
  "language_info": {
   "codemirror_mode": {
    "name": "ipython",
    "version": 3
   },
   "file_extension": ".py",
   "mimetype": "text/x-python",
   "name": "python",
   "nbconvert_exporter": "python",
   "pygments_lexer": "ipython3",
   "version": "3.7.4"
  }
 },
 "nbformat": 4,
 "nbformat_minor": 2
}
