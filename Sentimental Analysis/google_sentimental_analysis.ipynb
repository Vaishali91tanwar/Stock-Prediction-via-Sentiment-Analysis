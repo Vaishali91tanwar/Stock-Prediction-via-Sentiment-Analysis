{
 "cells": [
  {
   "cell_type": "code",
   "execution_count": 1,
   "metadata": {},
   "outputs": [],
   "source": [
    "import pandas as pd\n",
    "import time \n",
    "from datetime import datetime as dt\n",
    "import yfinance as yf"
   ]
  },
  {
   "cell_type": "code",
   "execution_count": 2,
   "metadata": {},
   "outputs": [
    {
     "data": {
      "text/html": [
       "<div>\n",
       "<style scoped>\n",
       "    .dataframe tbody tr th:only-of-type {\n",
       "        vertical-align: middle;\n",
       "    }\n",
       "\n",
       "    .dataframe tbody tr th {\n",
       "        vertical-align: top;\n",
       "    }\n",
       "\n",
       "    .dataframe thead th {\n",
       "        text-align: right;\n",
       "    }\n",
       "</style>\n",
       "<table border=\"1\" class=\"dataframe\">\n",
       "  <thead>\n",
       "    <tr style=\"text-align: right;\">\n",
       "      <th></th>\n",
       "      <th>Open</th>\n",
       "      <th>High</th>\n",
       "      <th>Low</th>\n",
       "      <th>Close</th>\n",
       "      <th>Volume</th>\n",
       "      <th>Dividends</th>\n",
       "      <th>Stock Splits</th>\n",
       "    </tr>\n",
       "    <tr>\n",
       "      <th>Date</th>\n",
       "      <th></th>\n",
       "      <th></th>\n",
       "      <th></th>\n",
       "      <th></th>\n",
       "      <th></th>\n",
       "      <th></th>\n",
       "      <th></th>\n",
       "    </tr>\n",
       "  </thead>\n",
       "  <tbody>\n",
       "    <tr>\n",
       "      <td>2014-07-22</td>\n",
       "      <td>599.70</td>\n",
       "      <td>608.89</td>\n",
       "      <td>599.26</td>\n",
       "      <td>603.57</td>\n",
       "      <td>1881600</td>\n",
       "      <td>0</td>\n",
       "      <td>0</td>\n",
       "    </tr>\n",
       "    <tr>\n",
       "      <td>2014-07-23</td>\n",
       "      <td>602.05</td>\n",
       "      <td>607.05</td>\n",
       "      <td>601.35</td>\n",
       "      <td>605.19</td>\n",
       "      <td>1106000</td>\n",
       "      <td>0</td>\n",
       "      <td>0</td>\n",
       "    </tr>\n",
       "    <tr>\n",
       "      <td>2014-07-24</td>\n",
       "      <td>605.53</td>\n",
       "      <td>608.91</td>\n",
       "      <td>601.00</td>\n",
       "      <td>603.01</td>\n",
       "      <td>1355000</td>\n",
       "      <td>0</td>\n",
       "      <td>0</td>\n",
       "    </tr>\n",
       "    <tr>\n",
       "      <td>2014-07-25</td>\n",
       "      <td>599.25</td>\n",
       "      <td>601.00</td>\n",
       "      <td>595.75</td>\n",
       "      <td>598.08</td>\n",
       "      <td>1360000</td>\n",
       "      <td>0</td>\n",
       "      <td>0</td>\n",
       "    </tr>\n",
       "    <tr>\n",
       "      <td>2014-07-28</td>\n",
       "      <td>597.75</td>\n",
       "      <td>601.10</td>\n",
       "      <td>592.59</td>\n",
       "      <td>599.02</td>\n",
       "      <td>1358100</td>\n",
       "      <td>0</td>\n",
       "      <td>0</td>\n",
       "    </tr>\n",
       "    <tr>\n",
       "      <td>...</td>\n",
       "      <td>...</td>\n",
       "      <td>...</td>\n",
       "      <td>...</td>\n",
       "      <td>...</td>\n",
       "      <td>...</td>\n",
       "      <td>...</td>\n",
       "      <td>...</td>\n",
       "    </tr>\n",
       "    <tr>\n",
       "      <td>2020-07-16</td>\n",
       "      <td>1501.50</td>\n",
       "      <td>1515.91</td>\n",
       "      <td>1488.27</td>\n",
       "      <td>1514.92</td>\n",
       "      <td>1324200</td>\n",
       "      <td>0</td>\n",
       "      <td>0</td>\n",
       "    </tr>\n",
       "    <tr>\n",
       "      <td>2020-07-17</td>\n",
       "      <td>1516.91</td>\n",
       "      <td>1523.43</td>\n",
       "      <td>1498.10</td>\n",
       "      <td>1516.85</td>\n",
       "      <td>1713200</td>\n",
       "      <td>0</td>\n",
       "      <td>0</td>\n",
       "    </tr>\n",
       "    <tr>\n",
       "      <td>2020-07-20</td>\n",
       "      <td>1515.00</td>\n",
       "      <td>1569.01</td>\n",
       "      <td>1502.70</td>\n",
       "      <td>1563.84</td>\n",
       "      <td>1508300</td>\n",
       "      <td>0</td>\n",
       "      <td>0</td>\n",
       "    </tr>\n",
       "    <tr>\n",
       "      <td>2020-07-21</td>\n",
       "      <td>1585.03</td>\n",
       "      <td>1587.05</td>\n",
       "      <td>1552.62</td>\n",
       "      <td>1555.92</td>\n",
       "      <td>1374300</td>\n",
       "      <td>0</td>\n",
       "      <td>0</td>\n",
       "    </tr>\n",
       "    <tr>\n",
       "      <td>2020-07-22</td>\n",
       "      <td>1555.71</td>\n",
       "      <td>1562.96</td>\n",
       "      <td>1543.25</td>\n",
       "      <td>1560.29</td>\n",
       "      <td>447853</td>\n",
       "      <td>0</td>\n",
       "      <td>0</td>\n",
       "    </tr>\n",
       "  </tbody>\n",
       "</table>\n",
       "<p>1512 rows × 7 columns</p>\n",
       "</div>"
      ],
      "text/plain": [
       "               Open     High      Low    Close   Volume  Dividends  \\\n",
       "Date                                                                 \n",
       "2014-07-22   599.70   608.89   599.26   603.57  1881600          0   \n",
       "2014-07-23   602.05   607.05   601.35   605.19  1106000          0   \n",
       "2014-07-24   605.53   608.91   601.00   603.01  1355000          0   \n",
       "2014-07-25   599.25   601.00   595.75   598.08  1360000          0   \n",
       "2014-07-28   597.75   601.10   592.59   599.02  1358100          0   \n",
       "...             ...      ...      ...      ...      ...        ...   \n",
       "2020-07-16  1501.50  1515.91  1488.27  1514.92  1324200          0   \n",
       "2020-07-17  1516.91  1523.43  1498.10  1516.85  1713200          0   \n",
       "2020-07-20  1515.00  1569.01  1502.70  1563.84  1508300          0   \n",
       "2020-07-21  1585.03  1587.05  1552.62  1555.92  1374300          0   \n",
       "2020-07-22  1555.71  1562.96  1543.25  1560.29   447853          0   \n",
       "\n",
       "            Stock Splits  \n",
       "Date                      \n",
       "2014-07-22             0  \n",
       "2014-07-23             0  \n",
       "2014-07-24             0  \n",
       "2014-07-25             0  \n",
       "2014-07-28             0  \n",
       "...                  ...  \n",
       "2020-07-16             0  \n",
       "2020-07-17             0  \n",
       "2020-07-20             0  \n",
       "2020-07-21             0  \n",
       "2020-07-22             0  \n",
       "\n",
       "[1512 rows x 7 columns]"
      ]
     },
     "execution_count": 2,
     "metadata": {},
     "output_type": "execute_result"
    }
   ],
   "source": [
    "tick = yf.Ticker(\"GOOGL\")\n",
    "# get stock info\n",
    "\n",
    "# get historical market data\n",
    "hist = tick.history(period=\"6y\")\n",
    "hist"
   ]
  },
  {
   "cell_type": "code",
   "execution_count": 3,
   "metadata": {},
   "outputs": [],
   "source": [
    "hist[\"Change\"]=hist[\"Close\"]-hist[\"Open\"]"
   ]
  },
  {
   "cell_type": "code",
   "execution_count": 4,
   "metadata": {},
   "outputs": [],
   "source": [
    "hist.loc[hist['Open']>= hist['Close'], 'Result'] = 0\n",
    "hist.loc[hist['Open']< hist['Close'], 'Result'] = 1"
   ]
  },
  {
   "cell_type": "code",
   "execution_count": 5,
   "metadata": {},
   "outputs": [],
   "source": [
    "hist = hist.drop(columns =['Open','High','Low','Close','Volume','Dividends','Stock Splits','Change'])"
   ]
  },
  {
   "cell_type": "code",
   "execution_count": 6,
   "metadata": {},
   "outputs": [
    {
     "data": {
      "text/html": [
       "<div>\n",
       "<style scoped>\n",
       "    .dataframe tbody tr th:only-of-type {\n",
       "        vertical-align: middle;\n",
       "    }\n",
       "\n",
       "    .dataframe tbody tr th {\n",
       "        vertical-align: top;\n",
       "    }\n",
       "\n",
       "    .dataframe thead th {\n",
       "        text-align: right;\n",
       "    }\n",
       "</style>\n",
       "<table border=\"1\" class=\"dataframe\">\n",
       "  <thead>\n",
       "    <tr style=\"text-align: right;\">\n",
       "      <th></th>\n",
       "      <th>Date</th>\n",
       "      <th>Result</th>\n",
       "    </tr>\n",
       "  </thead>\n",
       "  <tbody>\n",
       "    <tr>\n",
       "      <td>0</td>\n",
       "      <td>2014-07-22</td>\n",
       "      <td>1.0</td>\n",
       "    </tr>\n",
       "    <tr>\n",
       "      <td>1</td>\n",
       "      <td>2014-07-23</td>\n",
       "      <td>1.0</td>\n",
       "    </tr>\n",
       "    <tr>\n",
       "      <td>2</td>\n",
       "      <td>2014-07-24</td>\n",
       "      <td>0.0</td>\n",
       "    </tr>\n",
       "    <tr>\n",
       "      <td>3</td>\n",
       "      <td>2014-07-25</td>\n",
       "      <td>0.0</td>\n",
       "    </tr>\n",
       "    <tr>\n",
       "      <td>4</td>\n",
       "      <td>2014-07-28</td>\n",
       "      <td>1.0</td>\n",
       "    </tr>\n",
       "    <tr>\n",
       "      <td>...</td>\n",
       "      <td>...</td>\n",
       "      <td>...</td>\n",
       "    </tr>\n",
       "    <tr>\n",
       "      <td>1507</td>\n",
       "      <td>2020-07-16</td>\n",
       "      <td>1.0</td>\n",
       "    </tr>\n",
       "    <tr>\n",
       "      <td>1508</td>\n",
       "      <td>2020-07-17</td>\n",
       "      <td>0.0</td>\n",
       "    </tr>\n",
       "    <tr>\n",
       "      <td>1509</td>\n",
       "      <td>2020-07-20</td>\n",
       "      <td>1.0</td>\n",
       "    </tr>\n",
       "    <tr>\n",
       "      <td>1510</td>\n",
       "      <td>2020-07-21</td>\n",
       "      <td>0.0</td>\n",
       "    </tr>\n",
       "    <tr>\n",
       "      <td>1511</td>\n",
       "      <td>2020-07-22</td>\n",
       "      <td>1.0</td>\n",
       "    </tr>\n",
       "  </tbody>\n",
       "</table>\n",
       "<p>1512 rows × 2 columns</p>\n",
       "</div>"
      ],
      "text/plain": [
       "           Date  Result\n",
       "0    2014-07-22     1.0\n",
       "1    2014-07-23     1.0\n",
       "2    2014-07-24     0.0\n",
       "3    2014-07-25     0.0\n",
       "4    2014-07-28     1.0\n",
       "...         ...     ...\n",
       "1507 2020-07-16     1.0\n",
       "1508 2020-07-17     0.0\n",
       "1509 2020-07-20     1.0\n",
       "1510 2020-07-21     0.0\n",
       "1511 2020-07-22     1.0\n",
       "\n",
       "[1512 rows x 2 columns]"
      ]
     },
     "execution_count": 6,
     "metadata": {},
     "output_type": "execute_result"
    }
   ],
   "source": [
    "hist.reset_index()"
   ]
  },
  {
   "cell_type": "code",
   "execution_count": 7,
   "metadata": {},
   "outputs": [],
   "source": [
    "news7daylag_nyt_reuter_technewsworld_df = pd.read_csv(\"data/news7daylag_nyt_reuters_technewsworld_data.csv\")"
   ]
  },
  {
   "cell_type": "code",
   "execution_count": 8,
   "metadata": {},
   "outputs": [],
   "source": [
    "news7daylag_nyt_reuter_technewsworld_df.columns=['Date','all_news']"
   ]
  },
  {
   "cell_type": "code",
   "execution_count": 9,
   "metadata": {},
   "outputs": [],
   "source": [
    "news7daylag_nyt_reuter_technewsworld_df['Date'] = pd.to_datetime(news7daylag_nyt_reuter_technewsworld_df['Date'], errors='coerce')"
   ]
  },
  {
   "cell_type": "code",
   "execution_count": 10,
   "metadata": {},
   "outputs": [],
   "source": [
    "stocknews_df = pd.merge(news7daylag_nyt_reuter_technewsworld_df,hist,how=\"inner\",on=\"Date\")"
   ]
  },
  {
   "cell_type": "code",
   "execution_count": 11,
   "metadata": {},
   "outputs": [],
   "source": [
    "stocknews_df = stocknews_df[['Date','Result','all_news']]"
   ]
  },
  {
   "cell_type": "code",
   "execution_count": 12,
   "metadata": {},
   "outputs": [
    {
     "data": {
      "text/html": [
       "<div>\n",
       "<style scoped>\n",
       "    .dataframe tbody tr th:only-of-type {\n",
       "        vertical-align: middle;\n",
       "    }\n",
       "\n",
       "    .dataframe tbody tr th {\n",
       "        vertical-align: top;\n",
       "    }\n",
       "\n",
       "    .dataframe thead th {\n",
       "        text-align: right;\n",
       "    }\n",
       "</style>\n",
       "<table border=\"1\" class=\"dataframe\">\n",
       "  <thead>\n",
       "    <tr style=\"text-align: right;\">\n",
       "      <th></th>\n",
       "      <th>Date</th>\n",
       "      <th>Result</th>\n",
       "      <th>all_news</th>\n",
       "    </tr>\n",
       "  </thead>\n",
       "  <tbody>\n",
       "    <tr>\n",
       "      <td>0</td>\n",
       "      <td>2014-07-22</td>\n",
       "      <td>1.0</td>\n",
       "      <td>new regulations could lead to the closing of t...</td>\n",
       "    </tr>\n",
       "    <tr>\n",
       "      <td>1</td>\n",
       "      <td>2014-07-23</td>\n",
       "      <td>1.0</td>\n",
       "      <td>a dropped device s chances of emerging with it...</td>\n",
       "    </tr>\n",
       "    <tr>\n",
       "      <td>2</td>\n",
       "      <td>2014-07-24</td>\n",
       "      <td>0.0</td>\n",
       "      <td>dr  jordan metzl is a sports medicine physicia...</td>\n",
       "    </tr>\n",
       "    <tr>\n",
       "      <td>3</td>\n",
       "      <td>2014-07-25</td>\n",
       "      <td>0.0</td>\n",
       "      <td>to reflect the diversity of experiences in the...</td>\n",
       "    </tr>\n",
       "    <tr>\n",
       "      <td>4</td>\n",
       "      <td>2014-07-28</td>\n",
       "      <td>1.0</td>\n",
       "      <td>weird al yankovic  above  topped the albums ch...</td>\n",
       "    </tr>\n",
       "    <tr>\n",
       "      <td>...</td>\n",
       "      <td>...</td>\n",
       "      <td>...</td>\n",
       "      <td>...</td>\n",
       "    </tr>\n",
       "    <tr>\n",
       "      <td>1504</td>\n",
       "      <td>2020-07-13</td>\n",
       "      <td>0.0</td>\n",
       "      <td>her lawyer  who issued a statement on the day ...</td>\n",
       "    </tr>\n",
       "    <tr>\n",
       "      <td>1505</td>\n",
       "      <td>2020-07-14</td>\n",
       "      <td>1.0</td>\n",
       "      <td>the trump administration said it would no long...</td>\n",
       "    </tr>\n",
       "    <tr>\n",
       "      <td>1506</td>\n",
       "      <td>2020-07-15</td>\n",
       "      <td>0.0</td>\n",
       "      <td>a fact finding team will have no power to subp...</td>\n",
       "    </tr>\n",
       "    <tr>\n",
       "      <td>1507</td>\n",
       "      <td>2020-07-16</td>\n",
       "      <td>1.0</td>\n",
       "      <td>terence a  monahan  new york s highest ranking...</td>\n",
       "    </tr>\n",
       "    <tr>\n",
       "      <td>1508</td>\n",
       "      <td>2020-07-17</td>\n",
       "      <td>0.0</td>\n",
       "      <td>a department store  a barbecue restaurant  a h...</td>\n",
       "    </tr>\n",
       "  </tbody>\n",
       "</table>\n",
       "<p>1509 rows × 3 columns</p>\n",
       "</div>"
      ],
      "text/plain": [
       "           Date  Result                                           all_news\n",
       "0    2014-07-22     1.0  new regulations could lead to the closing of t...\n",
       "1    2014-07-23     1.0  a dropped device s chances of emerging with it...\n",
       "2    2014-07-24     0.0  dr  jordan metzl is a sports medicine physicia...\n",
       "3    2014-07-25     0.0  to reflect the diversity of experiences in the...\n",
       "4    2014-07-28     1.0  weird al yankovic  above  topped the albums ch...\n",
       "...         ...     ...                                                ...\n",
       "1504 2020-07-13     0.0  her lawyer  who issued a statement on the day ...\n",
       "1505 2020-07-14     1.0  the trump administration said it would no long...\n",
       "1506 2020-07-15     0.0  a fact finding team will have no power to subp...\n",
       "1507 2020-07-16     1.0  terence a  monahan  new york s highest ranking...\n",
       "1508 2020-07-17     0.0  a department store  a barbecue restaurant  a h...\n",
       "\n",
       "[1509 rows x 3 columns]"
      ]
     },
     "execution_count": 12,
     "metadata": {},
     "output_type": "execute_result"
    }
   ],
   "source": [
    "stocknews_df"
   ]
  },
  {
   "cell_type": "code",
   "execution_count": 13,
   "metadata": {},
   "outputs": [
    {
     "data": {
      "text/html": [
       "<div>\n",
       "<style scoped>\n",
       "    .dataframe tbody tr th:only-of-type {\n",
       "        vertical-align: middle;\n",
       "    }\n",
       "\n",
       "    .dataframe tbody tr th {\n",
       "        vertical-align: top;\n",
       "    }\n",
       "\n",
       "    .dataframe thead th {\n",
       "        text-align: right;\n",
       "    }\n",
       "</style>\n",
       "<table border=\"1\" class=\"dataframe\">\n",
       "  <thead>\n",
       "    <tr style=\"text-align: right;\">\n",
       "      <th></th>\n",
       "      <th>Date</th>\n",
       "      <th>Result</th>\n",
       "      <th>all_news</th>\n",
       "    </tr>\n",
       "  </thead>\n",
       "  <tbody>\n",
       "  </tbody>\n",
       "</table>\n",
       "</div>"
      ],
      "text/plain": [
       "Empty DataFrame\n",
       "Columns: [Date, Result, all_news]\n",
       "Index: []"
      ]
     },
     "execution_count": 13,
     "metadata": {},
     "output_type": "execute_result"
    }
   ],
   "source": [
    "stocknews_df.loc[(stocknews_df['Result']!=0) & (stocknews_df['Result']!=1)]"
   ]
  },
  {
   "cell_type": "code",
   "execution_count": 14,
   "metadata": {},
   "outputs": [],
   "source": [
    "stocknews_df = stocknews_df.dropna()"
   ]
  },
  {
   "cell_type": "code",
   "execution_count": 15,
   "metadata": {},
   "outputs": [
    {
     "data": {
      "text/plain": [
       "Date        datetime64[ns]\n",
       "Result             float64\n",
       "all_news            object\n",
       "dtype: object"
      ]
     },
     "execution_count": 15,
     "metadata": {},
     "output_type": "execute_result"
    }
   ],
   "source": [
    "stocknews_df.dtypes"
   ]
  },
  {
   "cell_type": "code",
   "execution_count": 16,
   "metadata": {},
   "outputs": [],
   "source": [
    "#stocknews_df.to_csv('data/facebook_nytreuterstechnewsworld7lag_cleanedmerged.csv',index=False)"
   ]
  },
  {
   "cell_type": "code",
   "execution_count": 17,
   "metadata": {},
   "outputs": [],
   "source": [
    "train = stocknews_df[stocknews_df['Date']<'2018-07-17']\n",
    "test = stocknews_df[stocknews_df['Date']>'2018-07-16']"
   ]
  },
  {
   "cell_type": "code",
   "execution_count": 18,
   "metadata": {},
   "outputs": [],
   "source": [
    "data=train.iloc[:,2]"
   ]
  },
  {
   "cell_type": "code",
   "execution_count": 19,
   "metadata": {},
   "outputs": [],
   "source": [
    "from sklearn.feature_extraction.text import CountVectorizer\n",
    "from sklearn.ensemble import RandomForestClassifier"
   ]
  },
  {
   "cell_type": "code",
   "execution_count": 20,
   "metadata": {},
   "outputs": [],
   "source": [
    "countvector = CountVectorizer(ngram_range=(2,2))\n",
    "traindataset = countvector.fit_transform(data)"
   ]
  },
  {
   "cell_type": "code",
   "execution_count": 21,
   "metadata": {},
   "outputs": [
    {
     "data": {
      "text/plain": [
       "RandomForestClassifier(bootstrap=True, class_weight=None, criterion='entropy',\n",
       "                       max_depth=None, max_features='auto', max_leaf_nodes=None,\n",
       "                       min_impurity_decrease=0.0, min_impurity_split=None,\n",
       "                       min_samples_leaf=1, min_samples_split=2,\n",
       "                       min_weight_fraction_leaf=0.0, n_estimators=200,\n",
       "                       n_jobs=None, oob_score=False, random_state=None,\n",
       "                       verbose=0, warm_start=False)"
      ]
     },
     "execution_count": 21,
     "metadata": {},
     "output_type": "execute_result"
    }
   ],
   "source": [
    "randomclassifier=RandomForestClassifier(n_estimators=200,criterion='entropy')\n",
    "randomclassifier.fit(traindataset,train['Result'])"
   ]
  },
  {
   "cell_type": "code",
   "execution_count": 22,
   "metadata": {},
   "outputs": [],
   "source": [
    "test_transform = []\n",
    "for row in range(0, len(test.index)):\n",
    "    test_transform.append(''.join(str(x) for x in test.iloc[row,2]))\n",
    "#test_transform[0]"
   ]
  },
  {
   "cell_type": "code",
   "execution_count": 23,
   "metadata": {},
   "outputs": [],
   "source": [
    "test_dataset = countvector.transform(test_transform)\n",
    "predictions = randomclassifier.predict(test_dataset)"
   ]
  },
  {
   "cell_type": "code",
   "execution_count": 24,
   "metadata": {},
   "outputs": [],
   "source": [
    "from sklearn.metrics import classification_report, confusion_matrix, accuracy_score"
   ]
  },
  {
   "cell_type": "code",
   "execution_count": 25,
   "metadata": {},
   "outputs": [
    {
     "name": "stdout",
     "output_type": "stream",
     "text": [
      "[[ 27 219]\n",
      " [ 32 227]]\n",
      "227 32 219 27\n",
      "0.502970297029703\n",
      "              precision    recall  f1-score   support\n",
      "\n",
      "         0.0       0.46      0.11      0.18       246\n",
      "         1.0       0.51      0.88      0.64       259\n",
      "\n",
      "    accuracy                           0.50       505\n",
      "   macro avg       0.48      0.49      0.41       505\n",
      "weighted avg       0.48      0.50      0.42       505\n",
      "\n"
     ]
    }
   ],
   "source": [
    "matrix = confusion_matrix(test['Result'], predictions)\n",
    "print(matrix)\n",
    "tp, fn, fp, tn = confusion_matrix(test['Result'],predictions,labels=[1,0]).reshape(-1)\n",
    "print(tp, fn, fp, tn)\n",
    "score = accuracy_score(test['Result'],predictions)\n",
    "print(score)\n",
    "report = classification_report(test['Result'],predictions)\n",
    "print(report)"
   ]
  },
  {
   "cell_type": "code",
   "execution_count": 26,
   "metadata": {},
   "outputs": [],
   "source": [
    "results_df = pd.DataFrame({'Date': test['Date'], 'Label': test['Result'], 'Prediction': predictions})"
   ]
  },
  {
   "cell_type": "code",
   "execution_count": 27,
   "metadata": {},
   "outputs": [
    {
     "data": {
      "text/html": [
       "<div>\n",
       "<style scoped>\n",
       "    .dataframe tbody tr th:only-of-type {\n",
       "        vertical-align: middle;\n",
       "    }\n",
       "\n",
       "    .dataframe tbody tr th {\n",
       "        vertical-align: top;\n",
       "    }\n",
       "\n",
       "    .dataframe thead th {\n",
       "        text-align: right;\n",
       "    }\n",
       "</style>\n",
       "<table border=\"1\" class=\"dataframe\">\n",
       "  <thead>\n",
       "    <tr style=\"text-align: right;\">\n",
       "      <th></th>\n",
       "      <th>Date</th>\n",
       "      <th>Label</th>\n",
       "      <th>Prediction</th>\n",
       "    </tr>\n",
       "  </thead>\n",
       "  <tbody>\n",
       "    <tr>\n",
       "      <td>1004</td>\n",
       "      <td>2018-07-17</td>\n",
       "      <td>1.0</td>\n",
       "      <td>0.0</td>\n",
       "    </tr>\n",
       "    <tr>\n",
       "      <td>1005</td>\n",
       "      <td>2018-07-18</td>\n",
       "      <td>1.0</td>\n",
       "      <td>0.0</td>\n",
       "    </tr>\n",
       "    <tr>\n",
       "      <td>1006</td>\n",
       "      <td>2018-07-19</td>\n",
       "      <td>0.0</td>\n",
       "      <td>0.0</td>\n",
       "    </tr>\n",
       "    <tr>\n",
       "      <td>1007</td>\n",
       "      <td>2018-07-20</td>\n",
       "      <td>0.0</td>\n",
       "      <td>1.0</td>\n",
       "    </tr>\n",
       "    <tr>\n",
       "      <td>1008</td>\n",
       "      <td>2018-07-23</td>\n",
       "      <td>1.0</td>\n",
       "      <td>0.0</td>\n",
       "    </tr>\n",
       "    <tr>\n",
       "      <td>...</td>\n",
       "      <td>...</td>\n",
       "      <td>...</td>\n",
       "      <td>...</td>\n",
       "    </tr>\n",
       "    <tr>\n",
       "      <td>1504</td>\n",
       "      <td>2020-07-13</td>\n",
       "      <td>0.0</td>\n",
       "      <td>1.0</td>\n",
       "    </tr>\n",
       "    <tr>\n",
       "      <td>1505</td>\n",
       "      <td>2020-07-14</td>\n",
       "      <td>1.0</td>\n",
       "      <td>0.0</td>\n",
       "    </tr>\n",
       "    <tr>\n",
       "      <td>1506</td>\n",
       "      <td>2020-07-15</td>\n",
       "      <td>0.0</td>\n",
       "      <td>0.0</td>\n",
       "    </tr>\n",
       "    <tr>\n",
       "      <td>1507</td>\n",
       "      <td>2020-07-16</td>\n",
       "      <td>1.0</td>\n",
       "      <td>0.0</td>\n",
       "    </tr>\n",
       "    <tr>\n",
       "      <td>1508</td>\n",
       "      <td>2020-07-17</td>\n",
       "      <td>0.0</td>\n",
       "      <td>1.0</td>\n",
       "    </tr>\n",
       "  </tbody>\n",
       "</table>\n",
       "<p>505 rows × 3 columns</p>\n",
       "</div>"
      ],
      "text/plain": [
       "           Date  Label  Prediction\n",
       "1004 2018-07-17    1.0         0.0\n",
       "1005 2018-07-18    1.0         0.0\n",
       "1006 2018-07-19    0.0         0.0\n",
       "1007 2018-07-20    0.0         1.0\n",
       "1008 2018-07-23    1.0         0.0\n",
       "...         ...    ...         ...\n",
       "1504 2020-07-13    0.0         1.0\n",
       "1505 2020-07-14    1.0         0.0\n",
       "1506 2020-07-15    0.0         0.0\n",
       "1507 2020-07-16    1.0         0.0\n",
       "1508 2020-07-17    0.0         1.0\n",
       "\n",
       "[505 rows x 3 columns]"
      ]
     },
     "execution_count": 27,
     "metadata": {},
     "output_type": "execute_result"
    }
   ],
   "source": [
    "results_df"
   ]
  },
  {
   "cell_type": "code",
   "execution_count": 28,
   "metadata": {},
   "outputs": [],
   "source": [
    "results_df.to_csv('data/google_predictions.csv',index=False)"
   ]
  },
  {
   "cell_type": "code",
   "execution_count": 29,
   "metadata": {},
   "outputs": [],
   "source": [
    "confusion_matrix_df = pd.DataFrame({'True Positive': [tp], 'True Negative': [tn], 'False Positive': [fp], 'False Negative': [fn], 'Model Accuracy': [score]})"
   ]
  },
  {
   "cell_type": "code",
   "execution_count": 30,
   "metadata": {},
   "outputs": [
    {
     "data": {
      "text/html": [
       "<div>\n",
       "<style scoped>\n",
       "    .dataframe tbody tr th:only-of-type {\n",
       "        vertical-align: middle;\n",
       "    }\n",
       "\n",
       "    .dataframe tbody tr th {\n",
       "        vertical-align: top;\n",
       "    }\n",
       "\n",
       "    .dataframe thead th {\n",
       "        text-align: right;\n",
       "    }\n",
       "</style>\n",
       "<table border=\"1\" class=\"dataframe\">\n",
       "  <thead>\n",
       "    <tr style=\"text-align: right;\">\n",
       "      <th></th>\n",
       "      <th>True Positive</th>\n",
       "      <th>True Negative</th>\n",
       "      <th>False Positive</th>\n",
       "      <th>False Negative</th>\n",
       "      <th>Model Accuracy</th>\n",
       "    </tr>\n",
       "  </thead>\n",
       "  <tbody>\n",
       "    <tr>\n",
       "      <td>0</td>\n",
       "      <td>227</td>\n",
       "      <td>27</td>\n",
       "      <td>219</td>\n",
       "      <td>32</td>\n",
       "      <td>0.50297</td>\n",
       "    </tr>\n",
       "  </tbody>\n",
       "</table>\n",
       "</div>"
      ],
      "text/plain": [
       "   True Positive  True Negative  False Positive  False Negative  \\\n",
       "0            227             27             219              32   \n",
       "\n",
       "   Model Accuracy  \n",
       "0         0.50297  "
      ]
     },
     "execution_count": 30,
     "metadata": {},
     "output_type": "execute_result"
    }
   ],
   "source": [
    "confusion_matrix_df"
   ]
  },
  {
   "cell_type": "code",
   "execution_count": 31,
   "metadata": {},
   "outputs": [],
   "source": [
    "confusion_matrix_df.to_csv('data/google_confusion_matrix.csv',index=False)"
   ]
  },
  {
   "cell_type": "code",
   "execution_count": null,
   "metadata": {},
   "outputs": [],
   "source": []
  }
 ],
 "metadata": {
  "kernelspec": {
   "display_name": "Python 3",
   "language": "python",
   "name": "python3"
  },
  "language_info": {
   "codemirror_mode": {
    "name": "ipython",
    "version": 3
   },
   "file_extension": ".py",
   "mimetype": "text/x-python",
   "name": "python",
   "nbconvert_exporter": "python",
   "pygments_lexer": "ipython3",
   "version": "3.7.4"
  }
 },
 "nbformat": 4,
 "nbformat_minor": 2
}
