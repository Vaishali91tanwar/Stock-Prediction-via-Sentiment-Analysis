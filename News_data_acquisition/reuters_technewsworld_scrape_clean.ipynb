{
 "cells": [
  {
   "cell_type": "code",
   "execution_count": 1,
   "metadata": {},
   "outputs": [],
   "source": [
    "#import all dependancies \n",
    "from bs4 import BeautifulSoup as bs\n",
    "import pandas as pd\n",
    "import requests\n",
    "import re"
   ]
  },
  {
   "cell_type": "code",
   "execution_count": 2,
   "metadata": {},
   "outputs": [],
   "source": [
    "headlines = []\n",
    "snippets = []\n",
    "dates = []\n",
    "\n",
    "for n in range(3000):\n",
    "    \n",
    "    # Reuters news headline for tech page url\n",
    "    reuters_headline_url = \"https://www.reuters.com/news/archive/technologyNews?view=page&page={}&pageSize=10\".format(n)\n",
    "    #print(reuters_headline_url)\n",
    "    \n",
    "    # Retrieve page with the requests module\n",
    "    response = requests.get(reuters_headline_url)\n",
    "    \n",
    "    # Create BeautifulSoup object; parse with 'html.parser'\n",
    "    soup = bs(response.text, 'html.parser')\n",
    "    \n",
    "    # results are returned as an iterable list\n",
    "    results = soup.find_all('article', class_=\"story\")\n",
    "    \n",
    "    # Loop through returned results\n",
    "    counter = 1\n",
    "    for result in results:\n",
    "\n",
    "        if (counter<11):\n",
    "            \n",
    "            # Identify and return title of listing\n",
    "            try:\n",
    "                headline = result.find('h3', class_=\"story-title\").text\n",
    "                headlines.append(headline)\n",
    "            except:\n",
    "                headlines.append('missing')\n",
    "\n",
    "            # Identify and return paragraph of headline\n",
    "            try:\n",
    "                para = result.p.text\n",
    "                snippets.append(para)\n",
    "            except:\n",
    "                snippets.append('missing')\n",
    "\n",
    "            # Identify and return the date of the headline\n",
    "            try:\n",
    "                date = result.find('time',class_ = \"article-time\").span.text\n",
    "                dates.append(date)\n",
    "                #print(date)\n",
    "            except:\n",
    "                dates.append('missing')\n",
    "\n",
    "            counter+=1"
   ]
  },
  {
   "cell_type": "code",
   "execution_count": 3,
   "metadata": {},
   "outputs": [
    {
     "data": {
      "text/html": [
       "<div>\n",
       "<style scoped>\n",
       "    .dataframe tbody tr th:only-of-type {\n",
       "        vertical-align: middle;\n",
       "    }\n",
       "\n",
       "    .dataframe tbody tr th {\n",
       "        vertical-align: top;\n",
       "    }\n",
       "\n",
       "    .dataframe thead th {\n",
       "        text-align: right;\n",
       "    }\n",
       "</style>\n",
       "<table border=\"1\" class=\"dataframe\">\n",
       "  <thead>\n",
       "    <tr style=\"text-align: right;\">\n",
       "      <th></th>\n",
       "      <th>Date</th>\n",
       "      <th>Headline</th>\n",
       "      <th>article_snippet</th>\n",
       "    </tr>\n",
       "  </thead>\n",
       "  <tbody>\n",
       "    <tr>\n",
       "      <td>0</td>\n",
       "      <td>11:32am EDT</td>\n",
       "      <td>\\n\\t\\t\\t\\t\\t\\t\\t\\tTwitter shares rise on recor...</td>\n",
       "      <td>Twitter Inc  on Thursday reported its highest-...</td>\n",
       "    </tr>\n",
       "    <tr>\n",
       "      <td>1</td>\n",
       "      <td>10:51am EDT</td>\n",
       "      <td>\\n\\t\\t\\t\\t\\t\\t\\t\\tFacebook allows users to bro...</td>\n",
       "      <td>Facebook Inc  said on Thursday it was rolling ...</td>\n",
       "    </tr>\n",
       "    <tr>\n",
       "      <td>2</td>\n",
       "      <td>10:41am EDT</td>\n",
       "      <td>\\n\\t\\t\\t\\t\\t\\t\\t\\tAT&amp;T loses monthly subscribe...</td>\n",
       "      <td>AT&amp;T Inc said on Thursday it lost monthly phon...</td>\n",
       "    </tr>\n",
       "    <tr>\n",
       "      <td>3</td>\n",
       "      <td>10:13am EDT</td>\n",
       "      <td>\\n\\t\\t\\t\\t\\t\\t\\t\\tAmazon to open 10 new India ...</td>\n",
       "      <td>Amazon.com Inc's  India unit on Thursday said ...</td>\n",
       "    </tr>\n",
       "    <tr>\n",
       "      <td>4</td>\n",
       "      <td>9:53am EDT</td>\n",
       "      <td>\\n\\t\\t\\t\\t\\t\\t\\t\\tOrange launches digital bank...</td>\n",
       "      <td>French telecoms provider Orange on Thursday la...</td>\n",
       "    </tr>\n",
       "  </tbody>\n",
       "</table>\n",
       "</div>"
      ],
      "text/plain": [
       "          Date                                           Headline  \\\n",
       "0  11:32am EDT  \\n\\t\\t\\t\\t\\t\\t\\t\\tTwitter shares rise on recor...   \n",
       "1  10:51am EDT  \\n\\t\\t\\t\\t\\t\\t\\t\\tFacebook allows users to bro...   \n",
       "2  10:41am EDT  \\n\\t\\t\\t\\t\\t\\t\\t\\tAT&T loses monthly subscribe...   \n",
       "3  10:13am EDT  \\n\\t\\t\\t\\t\\t\\t\\t\\tAmazon to open 10 new India ...   \n",
       "4   9:53am EDT  \\n\\t\\t\\t\\t\\t\\t\\t\\tOrange launches digital bank...   \n",
       "\n",
       "                                     article_snippet  \n",
       "0  Twitter Inc  on Thursday reported its highest-...  \n",
       "1  Facebook Inc  said on Thursday it was rolling ...  \n",
       "2  AT&T Inc said on Thursday it lost monthly phon...  \n",
       "3  Amazon.com Inc's  India unit on Thursday said ...  \n",
       "4  French telecoms provider Orange on Thursday la...  "
      ]
     },
     "execution_count": 3,
     "metadata": {},
     "output_type": "execute_result"
    }
   ],
   "source": [
    "#write the lists to a dataframe\n",
    "reuters_df = pd.DataFrame({'Date': dates, 'Headline' : headlines, 'article_snippet' : snippets})\n",
    "\n",
    "reuters_df.head()"
   ]
  },
  {
   "cell_type": "code",
   "execution_count": 4,
   "metadata": {},
   "outputs": [
    {
     "data": {
      "text/html": [
       "<div>\n",
       "<style scoped>\n",
       "    .dataframe tbody tr th:only-of-type {\n",
       "        vertical-align: middle;\n",
       "    }\n",
       "\n",
       "    .dataframe tbody tr th {\n",
       "        vertical-align: top;\n",
       "    }\n",
       "\n",
       "    .dataframe thead th {\n",
       "        text-align: right;\n",
       "    }\n",
       "</style>\n",
       "<table border=\"1\" class=\"dataframe\">\n",
       "  <thead>\n",
       "    <tr style=\"text-align: right;\">\n",
       "      <th></th>\n",
       "      <th>Date</th>\n",
       "      <th>Headline</th>\n",
       "      <th>article_snippet</th>\n",
       "    </tr>\n",
       "  </thead>\n",
       "  <tbody>\n",
       "    <tr>\n",
       "      <td>0</td>\n",
       "      <td>11:32am EDT</td>\n",
       "      <td>Twitter shares rise on record yearly growth in...</td>\n",
       "      <td>Twitter Inc  on Thursday reported its highest-...</td>\n",
       "    </tr>\n",
       "    <tr>\n",
       "      <td>1</td>\n",
       "      <td>10:51am EDT</td>\n",
       "      <td>Facebook allows users to broadcast live large ...</td>\n",
       "      <td>Facebook Inc  said on Thursday it was rolling ...</td>\n",
       "    </tr>\n",
       "    <tr>\n",
       "      <td>2</td>\n",
       "      <td>10:41am EDT</td>\n",
       "      <td>AT&amp;T loses monthly subscribers as media unit h...</td>\n",
       "      <td>AT&amp;T Inc said on Thursday it lost monthly phon...</td>\n",
       "    </tr>\n",
       "    <tr>\n",
       "      <td>3</td>\n",
       "      <td>10:13am EDT</td>\n",
       "      <td>Amazon to open 10 new India warehouses; offers...</td>\n",
       "      <td>Amazon.com Inc's  India unit on Thursday said ...</td>\n",
       "    </tr>\n",
       "    <tr>\n",
       "      <td>4</td>\n",
       "      <td>9:53am EDT</td>\n",
       "      <td>Orange launches digital banking in Ivory Coast...</td>\n",
       "      <td>French telecoms provider Orange on Thursday la...</td>\n",
       "    </tr>\n",
       "  </tbody>\n",
       "</table>\n",
       "</div>"
      ],
      "text/plain": [
       "          Date                                           Headline  \\\n",
       "0  11:32am EDT  Twitter shares rise on record yearly growth in...   \n",
       "1  10:51am EDT  Facebook allows users to broadcast live large ...   \n",
       "2  10:41am EDT  AT&T loses monthly subscribers as media unit h...   \n",
       "3  10:13am EDT  Amazon to open 10 new India warehouses; offers...   \n",
       "4   9:53am EDT  Orange launches digital banking in Ivory Coast...   \n",
       "\n",
       "                                     article_snippet  \n",
       "0  Twitter Inc  on Thursday reported its highest-...  \n",
       "1  Facebook Inc  said on Thursday it was rolling ...  \n",
       "2  AT&T Inc said on Thursday it lost monthly phon...  \n",
       "3  Amazon.com Inc's  India unit on Thursday said ...  \n",
       "4  French telecoms provider Orange on Thursday la...  "
      ]
     },
     "execution_count": 4,
     "metadata": {},
     "output_type": "execute_result"
    }
   ],
   "source": [
    "reuters_df = reuters_df.apply(lambda x: x.str.strip())\n",
    "reuters_df.head()"
   ]
  },
  {
   "cell_type": "code",
   "execution_count": 61,
   "metadata": {},
   "outputs": [],
   "source": [
    " #write to a file\n",
    "#reuters_df.to_csv(\"../data/reuter_tech_data.csv\")"
   ]
  },
  {
   "cell_type": "code",
   "execution_count": 12,
   "metadata": {},
   "outputs": [],
   "source": [
    "reuter_df = reuters_df.drop_duplicates(subset=['Headline', 'article_snippet'], keep='first')"
   ]
  },
  {
   "cell_type": "code",
   "execution_count": 17,
   "metadata": {},
   "outputs": [
    {
     "name": "stderr",
     "output_type": "stream",
     "text": [
      "C:\\ProgramData\\Anaconda3\\lib\\site-packages\\pandas\\core\\indexing.py:205: SettingWithCopyWarning: \n",
      "A value is trying to be set on a copy of a slice from a DataFrame\n",
      "\n",
      "See the caveats in the documentation: http://pandas.pydata.org/pandas-docs/stable/user_guide/indexing.html#returning-a-view-versus-a-copy\n",
      "  self._setitem_with_indexer(indexer, value)\n",
      "C:\\ProgramData\\Anaconda3\\lib\\site-packages\\pandas\\core\\frame.py:2894: SettingWithCopyWarning: \n",
      "A value is trying to be set on a copy of a slice from a DataFrame\n",
      "\n",
      "See the caveats in the documentation: http://pandas.pydata.org/pandas-docs/stable/user_guide/indexing.html#returning-a-view-versus-a-copy\n",
      "  self.loc[index, col] = value\n"
     ]
    }
   ],
   "source": [
    "reuter_df.at[0:23,'Date'] = \"Jul 23 2020\""
   ]
  },
  {
   "cell_type": "code",
   "execution_count": 19,
   "metadata": {},
   "outputs": [
    {
     "data": {
      "text/html": [
       "<div>\n",
       "<style scoped>\n",
       "    .dataframe tbody tr th:only-of-type {\n",
       "        vertical-align: middle;\n",
       "    }\n",
       "\n",
       "    .dataframe tbody tr th {\n",
       "        vertical-align: top;\n",
       "    }\n",
       "\n",
       "    .dataframe thead th {\n",
       "        text-align: right;\n",
       "    }\n",
       "</style>\n",
       "<table border=\"1\" class=\"dataframe\">\n",
       "  <thead>\n",
       "    <tr style=\"text-align: right;\">\n",
       "      <th></th>\n",
       "      <th>Date</th>\n",
       "      <th>Headline</th>\n",
       "      <th>article_snippet</th>\n",
       "    </tr>\n",
       "  </thead>\n",
       "  <tbody>\n",
       "    <tr>\n",
       "      <td>0</td>\n",
       "      <td>Jul 23 2020</td>\n",
       "      <td>Twitter shares rise on record yearly growth in...</td>\n",
       "      <td>Twitter Inc  on Thursday reported its highest-...</td>\n",
       "    </tr>\n",
       "    <tr>\n",
       "      <td>1</td>\n",
       "      <td>Jul 23 2020</td>\n",
       "      <td>Facebook allows users to broadcast live large ...</td>\n",
       "      <td>Facebook Inc  said on Thursday it was rolling ...</td>\n",
       "    </tr>\n",
       "    <tr>\n",
       "      <td>2</td>\n",
       "      <td>Jul 23 2020</td>\n",
       "      <td>AT&amp;T loses monthly subscribers as media unit h...</td>\n",
       "      <td>AT&amp;T Inc said on Thursday it lost monthly phon...</td>\n",
       "    </tr>\n",
       "    <tr>\n",
       "      <td>3</td>\n",
       "      <td>Jul 23 2020</td>\n",
       "      <td>Amazon to open 10 new India warehouses; offers...</td>\n",
       "      <td>Amazon.com Inc's  India unit on Thursday said ...</td>\n",
       "    </tr>\n",
       "    <tr>\n",
       "      <td>4</td>\n",
       "      <td>Jul 23 2020</td>\n",
       "      <td>Orange launches digital banking in Ivory Coast...</td>\n",
       "      <td>French telecoms provider Orange on Thursday la...</td>\n",
       "    </tr>\n",
       "  </tbody>\n",
       "</table>\n",
       "</div>"
      ],
      "text/plain": [
       "          Date                                           Headline  \\\n",
       "0  Jul 23 2020  Twitter shares rise on record yearly growth in...   \n",
       "1  Jul 23 2020  Facebook allows users to broadcast live large ...   \n",
       "2  Jul 23 2020  AT&T loses monthly subscribers as media unit h...   \n",
       "3  Jul 23 2020  Amazon to open 10 new India warehouses; offers...   \n",
       "4  Jul 23 2020  Orange launches digital banking in Ivory Coast...   \n",
       "\n",
       "                                     article_snippet  \n",
       "0  Twitter Inc  on Thursday reported its highest-...  \n",
       "1  Facebook Inc  said on Thursday it was rolling ...  \n",
       "2  AT&T Inc said on Thursday it lost monthly phon...  \n",
       "3  Amazon.com Inc's  India unit on Thursday said ...  \n",
       "4  French telecoms provider Orange on Thursday la...  "
      ]
     },
     "execution_count": 19,
     "metadata": {},
     "output_type": "execute_result"
    }
   ],
   "source": [
    "reuter_df.head()"
   ]
  },
  {
   "cell_type": "code",
   "execution_count": 20,
   "metadata": {},
   "outputs": [
    {
     "name": "stderr",
     "output_type": "stream",
     "text": [
      "C:\\ProgramData\\Anaconda3\\lib\\site-packages\\ipykernel_launcher.py:1: SettingWithCopyWarning: \n",
      "A value is trying to be set on a copy of a slice from a DataFrame.\n",
      "Try using .loc[row_indexer,col_indexer] = value instead\n",
      "\n",
      "See the caveats in the documentation: http://pandas.pydata.org/pandas-docs/stable/user_guide/indexing.html#returning-a-view-versus-a-copy\n",
      "  \"\"\"Entry point for launching an IPython kernel.\n"
     ]
    }
   ],
   "source": [
    "reuter_df['Date'] = reuter_df['Date'].astype('datetime64[ns]') "
   ]
  },
  {
   "cell_type": "code",
   "execution_count": 21,
   "metadata": {},
   "outputs": [
    {
     "data": {
      "text/html": [
       "<div>\n",
       "<style scoped>\n",
       "    .dataframe tbody tr th:only-of-type {\n",
       "        vertical-align: middle;\n",
       "    }\n",
       "\n",
       "    .dataframe tbody tr th {\n",
       "        vertical-align: top;\n",
       "    }\n",
       "\n",
       "    .dataframe thead th {\n",
       "        text-align: right;\n",
       "    }\n",
       "</style>\n",
       "<table border=\"1\" class=\"dataframe\">\n",
       "  <thead>\n",
       "    <tr style=\"text-align: right;\">\n",
       "      <th></th>\n",
       "      <th>Date</th>\n",
       "      <th>Headline</th>\n",
       "      <th>article_snippet</th>\n",
       "    </tr>\n",
       "  </thead>\n",
       "  <tbody>\n",
       "    <tr>\n",
       "      <td>0</td>\n",
       "      <td>2020-07-23</td>\n",
       "      <td>Twitter shares rise on record yearly growth in...</td>\n",
       "      <td>Twitter Inc  on Thursday reported its highest-...</td>\n",
       "    </tr>\n",
       "    <tr>\n",
       "      <td>1</td>\n",
       "      <td>2020-07-23</td>\n",
       "      <td>Facebook allows users to broadcast live large ...</td>\n",
       "      <td>Facebook Inc  said on Thursday it was rolling ...</td>\n",
       "    </tr>\n",
       "    <tr>\n",
       "      <td>2</td>\n",
       "      <td>2020-07-23</td>\n",
       "      <td>AT&amp;T loses monthly subscribers as media unit h...</td>\n",
       "      <td>AT&amp;T Inc said on Thursday it lost monthly phon...</td>\n",
       "    </tr>\n",
       "    <tr>\n",
       "      <td>3</td>\n",
       "      <td>2020-07-23</td>\n",
       "      <td>Amazon to open 10 new India warehouses; offers...</td>\n",
       "      <td>Amazon.com Inc's  India unit on Thursday said ...</td>\n",
       "    </tr>\n",
       "    <tr>\n",
       "      <td>4</td>\n",
       "      <td>2020-07-23</td>\n",
       "      <td>Orange launches digital banking in Ivory Coast...</td>\n",
       "      <td>French telecoms provider Orange on Thursday la...</td>\n",
       "    </tr>\n",
       "  </tbody>\n",
       "</table>\n",
       "</div>"
      ],
      "text/plain": [
       "        Date                                           Headline  \\\n",
       "0 2020-07-23  Twitter shares rise on record yearly growth in...   \n",
       "1 2020-07-23  Facebook allows users to broadcast live large ...   \n",
       "2 2020-07-23  AT&T loses monthly subscribers as media unit h...   \n",
       "3 2020-07-23  Amazon to open 10 new India warehouses; offers...   \n",
       "4 2020-07-23  Orange launches digital banking in Ivory Coast...   \n",
       "\n",
       "                                     article_snippet  \n",
       "0  Twitter Inc  on Thursday reported its highest-...  \n",
       "1  Facebook Inc  said on Thursday it was rolling ...  \n",
       "2  AT&T Inc said on Thursday it lost monthly phon...  \n",
       "3  Amazon.com Inc's  India unit on Thursday said ...  \n",
       "4  French telecoms provider Orange on Thursday la...  "
      ]
     },
     "execution_count": 21,
     "metadata": {},
     "output_type": "execute_result"
    }
   ],
   "source": [
    "reuter_df.head()"
   ]
  },
  {
   "cell_type": "code",
   "execution_count": 22,
   "metadata": {},
   "outputs": [],
   "source": [
    "reuter1 = reuter_df.groupby(['Date'])['Headline'].apply(','.join).reset_index()"
   ]
  },
  {
   "cell_type": "code",
   "execution_count": 23,
   "metadata": {},
   "outputs": [],
   "source": [
    "reuter2 = reuter_df.groupby(['Date'])['article_snippet'].apply(','.join).reset_index()"
   ]
  },
  {
   "cell_type": "code",
   "execution_count": 36,
   "metadata": {},
   "outputs": [],
   "source": [
    "reuter_data = pd.merge(reuter1, reuter2, on=\"Date\", how=\"outer\")"
   ]
  },
  {
   "cell_type": "code",
   "execution_count": 37,
   "metadata": {},
   "outputs": [
    {
     "data": {
      "text/html": [
       "<div>\n",
       "<style scoped>\n",
       "    .dataframe tbody tr th:only-of-type {\n",
       "        vertical-align: middle;\n",
       "    }\n",
       "\n",
       "    .dataframe tbody tr th {\n",
       "        vertical-align: top;\n",
       "    }\n",
       "\n",
       "    .dataframe thead th {\n",
       "        text-align: right;\n",
       "    }\n",
       "</style>\n",
       "<table border=\"1\" class=\"dataframe\">\n",
       "  <thead>\n",
       "    <tr style=\"text-align: right;\">\n",
       "      <th></th>\n",
       "      <th>Date</th>\n",
       "      <th>Headline</th>\n",
       "      <th>article_snippet</th>\n",
       "    </tr>\n",
       "  </thead>\n",
       "  <tbody>\n",
       "    <tr>\n",
       "      <td>2011</td>\n",
       "      <td>2020-07-19</td>\n",
       "      <td>Symptom tracker app reveals six distinct types...</td>\n",
       "      <td>(This July 17 story corrects paragraph seven t...</td>\n",
       "    </tr>\n",
       "    <tr>\n",
       "      <td>2012</td>\n",
       "      <td>2020-07-20</td>\n",
       "      <td>IBM beats estimates; sees gains as customers a...</td>\n",
       "      <td>International Business Machines Corp  beat est...</td>\n",
       "    </tr>\n",
       "    <tr>\n",
       "      <td>2013</td>\n",
       "      <td>2020-07-21</td>\n",
       "      <td>Twitter will suspend accounts tweeting about c...</td>\n",
       "      <td>Twitter Inc  said on Tuesday it would permanen...</td>\n",
       "    </tr>\n",
       "    <tr>\n",
       "      <td>2014</td>\n",
       "      <td>2020-07-22</td>\n",
       "      <td>U.S. appeals court won't unseal papers in Face...</td>\n",
       "      <td>A federal appeals court on Wednesday declined ...</td>\n",
       "    </tr>\n",
       "    <tr>\n",
       "      <td>2015</td>\n",
       "      <td>2020-07-23</td>\n",
       "      <td>Twitter shares rise on record yearly growth in...</td>\n",
       "      <td>Twitter Inc  on Thursday reported its highest-...</td>\n",
       "    </tr>\n",
       "  </tbody>\n",
       "</table>\n",
       "</div>"
      ],
      "text/plain": [
       "           Date                                           Headline  \\\n",
       "2011 2020-07-19  Symptom tracker app reveals six distinct types...   \n",
       "2012 2020-07-20  IBM beats estimates; sees gains as customers a...   \n",
       "2013 2020-07-21  Twitter will suspend accounts tweeting about c...   \n",
       "2014 2020-07-22  U.S. appeals court won't unseal papers in Face...   \n",
       "2015 2020-07-23  Twitter shares rise on record yearly growth in...   \n",
       "\n",
       "                                        article_snippet  \n",
       "2011  (This July 17 story corrects paragraph seven t...  \n",
       "2012  International Business Machines Corp  beat est...  \n",
       "2013  Twitter Inc  said on Tuesday it would permanen...  \n",
       "2014  A federal appeals court on Wednesday declined ...  \n",
       "2015  Twitter Inc  on Thursday reported its highest-...  "
      ]
     },
     "execution_count": 37,
     "metadata": {},
     "output_type": "execute_result"
    }
   ],
   "source": [
    "reuter_data.tail()"
   ]
  },
  {
   "cell_type": "code",
   "execution_count": 9,
   "metadata": {},
   "outputs": [],
   "source": [
    "import time\n",
    "headlines = []\n",
    "snippets = []\n",
    "dates = []\n",
    "\n",
    "for n in range(0,3000,15):\n",
    "    \n",
    "    # Tech News World headline for tech page url\n",
    "    technewsworld_headline_url = \"https://www.technewsworld.com/perl/archives/tnw/?init={}\".format(n)\n",
    "    #print(technewsworld_headline_url)\n",
    "\n",
    "    # Retrieve page with the requests module\n",
    "    response = requests.get(technewsworld_headline_url)\n",
    "\n",
    "    # Create BeautifulSoup object; parse with 'html.parser'\n",
    "    soup = bs(response.text, 'html.parser')\n",
    "\n",
    "    # results are returned as an iterable list\n",
    "    results = soup.find_all('div', class_=\"story-list xlarge shadow-big\")\n",
    "\n",
    "    # Loop through returned results\n",
    "    for result in results:\n",
    "\n",
    "        # Identify and return title of listing\n",
    "        try:\n",
    "            headline = result.find('div', class_=\"title\").text\n",
    "            headlines.append(headline)\n",
    "            #print(headline)\n",
    "        except:\n",
    "            headlines.append('missing')\n",
    "\n",
    "        # Identify and return paragraph of headline\n",
    "        try:\n",
    "            para = result.find('div', class_=\"teaser\").text\n",
    "            snippets.append(para)\n",
    "            #print(para)\n",
    "        except:\n",
    "            snippets.append('missing')\n",
    "\n",
    "        # Identify and return the date of the headline\n",
    "        try:\n",
    "            date = result.find('div',class_ = \"date\").text\n",
    "            dates.append(date)\n",
    "            #print(date)\n",
    "        except:\n",
    "            dates.append('missing')\n",
    "    time.sleep(0.1)"
   ]
  },
  {
   "cell_type": "code",
   "execution_count": 10,
   "metadata": {},
   "outputs": [
    {
     "data": {
      "text/html": [
       "<div>\n",
       "<style scoped>\n",
       "    .dataframe tbody tr th:only-of-type {\n",
       "        vertical-align: middle;\n",
       "    }\n",
       "\n",
       "    .dataframe tbody tr th {\n",
       "        vertical-align: top;\n",
       "    }\n",
       "\n",
       "    .dataframe thead th {\n",
       "        text-align: right;\n",
       "    }\n",
       "</style>\n",
       "<table border=\"1\" class=\"dataframe\">\n",
       "  <thead>\n",
       "    <tr style=\"text-align: right;\">\n",
       "      <th></th>\n",
       "      <th>Date</th>\n",
       "      <th>Headline</th>\n",
       "      <th>article_snippet</th>\n",
       "    </tr>\n",
       "  </thead>\n",
       "  <tbody>\n",
       "    <tr>\n",
       "      <td>1890</td>\n",
       "      <td>Wednesday - July 23, 2014</td>\n",
       "      <td>Amazon Fire Phone Wins Respect, if Not Raves</td>\n",
       "      <td>Early reviews for Amazon's first foray into th...</td>\n",
       "    </tr>\n",
       "    <tr>\n",
       "      <td>1891</td>\n",
       "      <td>Tuesday - July 22, 2014</td>\n",
       "      <td>Nvidia's Shield Tablet Earns Praise for Hardwa...</td>\n",
       "      <td>Nvidia is expanding its Shield line of gaming ...</td>\n",
       "    </tr>\n",
       "    <tr>\n",
       "      <td>1892</td>\n",
       "      <td>Tuesday - July 22, 2014</td>\n",
       "      <td>GoTenna Makes Wireless 'Magic'</td>\n",
       "      <td>Startup GoTenna has launched its eponymously n...</td>\n",
       "    </tr>\n",
       "    <tr>\n",
       "      <td>1893</td>\n",
       "      <td>Friday - April 11, 2014</td>\n",
       "      <td>Consumers Can't Stanch Heartbleeding</td>\n",
       "      <td>Consumers can do little to protect themselves ...</td>\n",
       "    </tr>\n",
       "    <tr>\n",
       "      <td>1894</td>\n",
       "      <td>Thursday - February 27, 2014</td>\n",
       "      <td>Boeing Unveils Suicidally Secure Smartphone</td>\n",
       "      <td>Boeing this week filed an application with the...</td>\n",
       "    </tr>\n",
       "  </tbody>\n",
       "</table>\n",
       "</div>"
      ],
      "text/plain": [
       "                              Date  \\\n",
       "1890     Wednesday - July 23, 2014   \n",
       "1891       Tuesday - July 22, 2014   \n",
       "1892       Tuesday - July 22, 2014   \n",
       "1893       Friday - April 11, 2014   \n",
       "1894  Thursday - February 27, 2014   \n",
       "\n",
       "                                               Headline  \\\n",
       "1890       Amazon Fire Phone Wins Respect, if Not Raves   \n",
       "1891  Nvidia's Shield Tablet Earns Praise for Hardwa...   \n",
       "1892                     GoTenna Makes Wireless 'Magic'   \n",
       "1893               Consumers Can't Stanch Heartbleeding   \n",
       "1894        Boeing Unveils Suicidally Secure Smartphone   \n",
       "\n",
       "                                        article_snippet  \n",
       "1890  Early reviews for Amazon's first foray into th...  \n",
       "1891  Nvidia is expanding its Shield line of gaming ...  \n",
       "1892  Startup GoTenna has launched its eponymously n...  \n",
       "1893  Consumers can do little to protect themselves ...  \n",
       "1894  Boeing this week filed an application with the...  "
      ]
     },
     "execution_count": 10,
     "metadata": {},
     "output_type": "execute_result"
    }
   ],
   "source": [
    "#write the lists to a dataframe\n",
    "technewsworld_df = pd.DataFrame({'Date': dates, 'Headline' : headlines, 'article_snippet' : snippets})\n",
    "\n",
    "technewsworld_df.tail()"
   ]
  },
  {
   "cell_type": "code",
   "execution_count": 29,
   "metadata": {},
   "outputs": [],
   "source": [
    "technewsworld_df['Date'] = technewsworld_df['Date'].astype('datetime64[ns]') "
   ]
  },
  {
   "cell_type": "code",
   "execution_count": 30,
   "metadata": {},
   "outputs": [
    {
     "data": {
      "text/html": [
       "<div>\n",
       "<style scoped>\n",
       "    .dataframe tbody tr th:only-of-type {\n",
       "        vertical-align: middle;\n",
       "    }\n",
       "\n",
       "    .dataframe tbody tr th {\n",
       "        vertical-align: top;\n",
       "    }\n",
       "\n",
       "    .dataframe thead th {\n",
       "        text-align: right;\n",
       "    }\n",
       "</style>\n",
       "<table border=\"1\" class=\"dataframe\">\n",
       "  <thead>\n",
       "    <tr style=\"text-align: right;\">\n",
       "      <th></th>\n",
       "      <th>Date</th>\n",
       "      <th>Headline</th>\n",
       "      <th>article_snippet</th>\n",
       "    </tr>\n",
       "  </thead>\n",
       "  <tbody>\n",
       "    <tr>\n",
       "      <td>0</td>\n",
       "      <td>2020-07-22</td>\n",
       "      <td>US Cloud Gaming Subscriptions Target $3B</td>\n",
       "      <td>Consumer interest in cloud gaming could boost ...</td>\n",
       "    </tr>\n",
       "    <tr>\n",
       "      <td>1</td>\n",
       "      <td>2020-07-21</td>\n",
       "      <td>Windows 10X to Eliminate Onboard 32-Bit Apps: ...</td>\n",
       "      <td>Windows 10X began as a streamlined operating s...</td>\n",
       "    </tr>\n",
       "    <tr>\n",
       "      <td>2</td>\n",
       "      <td>2020-07-21</td>\n",
       "      <td>ANALYSISThe Past, Present and Future of Attrib...</td>\n",
       "      <td>Encryption is an obscure but critical part of ...</td>\n",
       "    </tr>\n",
       "    <tr>\n",
       "      <td>3</td>\n",
       "      <td>2020-07-20</td>\n",
       "      <td>OPINIONWhy Microsoft Teams Will Be the De Fact...</td>\n",
       "      <td>I've been covering video conferencing since be...</td>\n",
       "    </tr>\n",
       "    <tr>\n",
       "      <td>4</td>\n",
       "      <td>2020-07-17</td>\n",
       "      <td>3 Apps to Help Golfers Get Into the Swing of T...</td>\n",
       "      <td>Sports performance technology continues to adv...</td>\n",
       "    </tr>\n",
       "  </tbody>\n",
       "</table>\n",
       "</div>"
      ],
      "text/plain": [
       "        Date                                           Headline  \\\n",
       "0 2020-07-22           US Cloud Gaming Subscriptions Target $3B   \n",
       "1 2020-07-21  Windows 10X to Eliminate Onboard 32-Bit Apps: ...   \n",
       "2 2020-07-21  ANALYSISThe Past, Present and Future of Attrib...   \n",
       "3 2020-07-20  OPINIONWhy Microsoft Teams Will Be the De Fact...   \n",
       "4 2020-07-17  3 Apps to Help Golfers Get Into the Swing of T...   \n",
       "\n",
       "                                     article_snippet  \n",
       "0  Consumer interest in cloud gaming could boost ...  \n",
       "1  Windows 10X began as a streamlined operating s...  \n",
       "2  Encryption is an obscure but critical part of ...  \n",
       "3  I've been covering video conferencing since be...  \n",
       "4  Sports performance technology continues to adv...  "
      ]
     },
     "execution_count": 30,
     "metadata": {},
     "output_type": "execute_result"
    }
   ],
   "source": [
    "technewsworld_df.head()"
   ]
  },
  {
   "cell_type": "code",
   "execution_count": 31,
   "metadata": {},
   "outputs": [],
   "source": [
    "technewsworld1 = technewsworld_df.groupby(['Date'])['Headline'].apply(','.join).reset_index()"
   ]
  },
  {
   "cell_type": "code",
   "execution_count": 32,
   "metadata": {},
   "outputs": [],
   "source": [
    "technewsworld2 = technewsworld_df.groupby(['Date'])['article_snippet'].apply(','.join).reset_index()"
   ]
  },
  {
   "cell_type": "code",
   "execution_count": 38,
   "metadata": {},
   "outputs": [],
   "source": [
    "technewsworld_data = pd.merge(technewsworld1, technewsworld2, on=\"Date\", how=\"outer\")"
   ]
  },
  {
   "cell_type": "code",
   "execution_count": 40,
   "metadata": {},
   "outputs": [
    {
     "data": {
      "text/html": [
       "<div>\n",
       "<style scoped>\n",
       "    .dataframe tbody tr th:only-of-type {\n",
       "        vertical-align: middle;\n",
       "    }\n",
       "\n",
       "    .dataframe tbody tr th {\n",
       "        vertical-align: top;\n",
       "    }\n",
       "\n",
       "    .dataframe thead th {\n",
       "        text-align: right;\n",
       "    }\n",
       "</style>\n",
       "<table border=\"1\" class=\"dataframe\">\n",
       "  <thead>\n",
       "    <tr style=\"text-align: right;\">\n",
       "      <th></th>\n",
       "      <th>Date</th>\n",
       "      <th>Headline</th>\n",
       "      <th>article_snippet</th>\n",
       "    </tr>\n",
       "  </thead>\n",
       "  <tbody>\n",
       "    <tr>\n",
       "      <td>1443</td>\n",
       "      <td>2020-07-15</td>\n",
       "      <td>Samsung Reveals 6G Vision</td>\n",
       "      <td>Although many people haven't wrapped their min...</td>\n",
       "    </tr>\n",
       "    <tr>\n",
       "      <td>1444</td>\n",
       "      <td>2020-07-17</td>\n",
       "      <td>3 Apps to Help Golfers Get Into the Swing of T...</td>\n",
       "      <td>Sports performance technology continues to adv...</td>\n",
       "    </tr>\n",
       "    <tr>\n",
       "      <td>1445</td>\n",
       "      <td>2020-07-20</td>\n",
       "      <td>OPINIONWhy Microsoft Teams Will Be the De Fact...</td>\n",
       "      <td>I've been covering video conferencing since be...</td>\n",
       "    </tr>\n",
       "    <tr>\n",
       "      <td>1446</td>\n",
       "      <td>2020-07-21</td>\n",
       "      <td>Windows 10X to Eliminate Onboard 32-Bit Apps: ...</td>\n",
       "      <td>Windows 10X began as a streamlined operating s...</td>\n",
       "    </tr>\n",
       "    <tr>\n",
       "      <td>1447</td>\n",
       "      <td>2020-07-22</td>\n",
       "      <td>US Cloud Gaming Subscriptions Target $3B</td>\n",
       "      <td>Consumer interest in cloud gaming could boost ...</td>\n",
       "    </tr>\n",
       "  </tbody>\n",
       "</table>\n",
       "</div>"
      ],
      "text/plain": [
       "           Date                                           Headline  \\\n",
       "1443 2020-07-15                          Samsung Reveals 6G Vision   \n",
       "1444 2020-07-17  3 Apps to Help Golfers Get Into the Swing of T...   \n",
       "1445 2020-07-20  OPINIONWhy Microsoft Teams Will Be the De Fact...   \n",
       "1446 2020-07-21  Windows 10X to Eliminate Onboard 32-Bit Apps: ...   \n",
       "1447 2020-07-22           US Cloud Gaming Subscriptions Target $3B   \n",
       "\n",
       "                                        article_snippet  \n",
       "1443  Although many people haven't wrapped their min...  \n",
       "1444  Sports performance technology continues to adv...  \n",
       "1445  I've been covering video conferencing since be...  \n",
       "1446  Windows 10X began as a streamlined operating s...  \n",
       "1447  Consumer interest in cloud gaming could boost ...  "
      ]
     },
     "execution_count": 40,
     "metadata": {},
     "output_type": "execute_result"
    }
   ],
   "source": [
    "technewsworld_data.tail()"
   ]
  },
  {
   "cell_type": "code",
   "execution_count": 42,
   "metadata": {},
   "outputs": [],
   "source": [
    "news_data = pd.merge(reuter_data, technewsworld_data, on=\"Date\", how='outer')"
   ]
  },
  {
   "cell_type": "code",
   "execution_count": 43,
   "metadata": {},
   "outputs": [],
   "source": [
    "news_data.columns = ['Date','reuter_headline', 'reuter_article_summary','technewsworld_headline','technewsworld_article_summary']"
   ]
  },
  {
   "cell_type": "code",
   "execution_count": 44,
   "metadata": {},
   "outputs": [],
   "source": [
    "news_data = news_data.sort_values(by='Date')"
   ]
  },
  {
   "cell_type": "code",
   "execution_count": 45,
   "metadata": {},
   "outputs": [
    {
     "data": {
      "text/html": [
       "<div>\n",
       "<style scoped>\n",
       "    .dataframe tbody tr th:only-of-type {\n",
       "        vertical-align: middle;\n",
       "    }\n",
       "\n",
       "    .dataframe tbody tr th {\n",
       "        vertical-align: top;\n",
       "    }\n",
       "\n",
       "    .dataframe thead th {\n",
       "        text-align: right;\n",
       "    }\n",
       "</style>\n",
       "<table border=\"1\" class=\"dataframe\">\n",
       "  <thead>\n",
       "    <tr style=\"text-align: right;\">\n",
       "      <th></th>\n",
       "      <th>Date</th>\n",
       "      <th>reuter_headline</th>\n",
       "      <th>reuter_article_summary</th>\n",
       "      <th>technewsworld_headline</th>\n",
       "      <th>technewsworld_article_summary</th>\n",
       "    </tr>\n",
       "  </thead>\n",
       "  <tbody>\n",
       "    <tr>\n",
       "      <td>2016</td>\n",
       "      <td>2014-02-27</td>\n",
       "      <td>NaN</td>\n",
       "      <td>NaN</td>\n",
       "      <td>Boeing Unveils Suicidally Secure Smartphone</td>\n",
       "      <td>Boeing this week filed an application with the...</td>\n",
       "    </tr>\n",
       "    <tr>\n",
       "      <td>2017</td>\n",
       "      <td>2014-04-11</td>\n",
       "      <td>NaN</td>\n",
       "      <td>NaN</td>\n",
       "      <td>Consumers Can't Stanch Heartbleeding</td>\n",
       "      <td>Consumers can do little to protect themselves ...</td>\n",
       "    </tr>\n",
       "    <tr>\n",
       "      <td>2018</td>\n",
       "      <td>2014-07-22</td>\n",
       "      <td>NaN</td>\n",
       "      <td>NaN</td>\n",
       "      <td>Nvidia's Shield Tablet Earns Praise for Hardwa...</td>\n",
       "      <td>Nvidia is expanding its Shield line of gaming ...</td>\n",
       "    </tr>\n",
       "    <tr>\n",
       "      <td>2019</td>\n",
       "      <td>2014-07-23</td>\n",
       "      <td>NaN</td>\n",
       "      <td>NaN</td>\n",
       "      <td>Amazon Fire Phone Wins Respect, if Not Raves</td>\n",
       "      <td>Early reviews for Amazon's first foray into th...</td>\n",
       "    </tr>\n",
       "    <tr>\n",
       "      <td>2020</td>\n",
       "      <td>2014-07-28</td>\n",
       "      <td>NaN</td>\n",
       "      <td>NaN</td>\n",
       "      <td>OPINIONThe Skully Augmented Motorcycle Helmet ...</td>\n",
       "      <td>Skully had its coming-out party last week, and...</td>\n",
       "    </tr>\n",
       "  </tbody>\n",
       "</table>\n",
       "</div>"
      ],
      "text/plain": [
       "           Date reuter_headline reuter_article_summary  \\\n",
       "2016 2014-02-27             NaN                    NaN   \n",
       "2017 2014-04-11             NaN                    NaN   \n",
       "2018 2014-07-22             NaN                    NaN   \n",
       "2019 2014-07-23             NaN                    NaN   \n",
       "2020 2014-07-28             NaN                    NaN   \n",
       "\n",
       "                                 technewsworld_headline  \\\n",
       "2016        Boeing Unveils Suicidally Secure Smartphone   \n",
       "2017               Consumers Can't Stanch Heartbleeding   \n",
       "2018  Nvidia's Shield Tablet Earns Praise for Hardwa...   \n",
       "2019       Amazon Fire Phone Wins Respect, if Not Raves   \n",
       "2020  OPINIONThe Skully Augmented Motorcycle Helmet ...   \n",
       "\n",
       "                          technewsworld_article_summary  \n",
       "2016  Boeing this week filed an application with the...  \n",
       "2017  Consumers can do little to protect themselves ...  \n",
       "2018  Nvidia is expanding its Shield line of gaming ...  \n",
       "2019  Early reviews for Amazon's first foray into th...  \n",
       "2020  Skully had its coming-out party last week, and...  "
      ]
     },
     "execution_count": 45,
     "metadata": {},
     "output_type": "execute_result"
    }
   ],
   "source": [
    "news_data.head()"
   ]
  },
  {
   "cell_type": "code",
   "execution_count": 47,
   "metadata": {},
   "outputs": [],
   "source": [
    "import datetime as dt\n",
    "news_data = news_data.loc[(news_data.Date > dt.datetime.strptime('2014-09-17 00:00:00', '%Y-%m-%d %H:%M:%S'))]"
   ]
  },
  {
   "cell_type": "code",
   "execution_count": 48,
   "metadata": {},
   "outputs": [],
   "source": [
    "news_data = news_data.astype(str)"
   ]
  },
  {
   "cell_type": "code",
   "execution_count": 49,
   "metadata": {},
   "outputs": [],
   "source": [
    "news_data['all_news'] = news_data[['reuter_headline', 'reuter_article_summary','technewsworld_headline', 'technewsworld_article_summary']].apply(','.join, axis=1)"
   ]
  },
  {
   "cell_type": "code",
   "execution_count": 50,
   "metadata": {},
   "outputs": [],
   "source": [
    "news_data = news_data.drop(columns =['reuter_headline', 'reuter_article_summary', 'technewsworld_headline', 'technewsworld_article_summary']) "
   ]
  },
  {
   "cell_type": "code",
   "execution_count": 51,
   "metadata": {},
   "outputs": [],
   "source": [
    "news_data['all_news'] = news_data['all_news'].str.lower()"
   ]
  },
  {
   "cell_type": "code",
   "execution_count": 52,
   "metadata": {},
   "outputs": [
    {
     "data": {
      "text/html": [
       "<div>\n",
       "<style scoped>\n",
       "    .dataframe tbody tr th:only-of-type {\n",
       "        vertical-align: middle;\n",
       "    }\n",
       "\n",
       "    .dataframe tbody tr th {\n",
       "        vertical-align: top;\n",
       "    }\n",
       "\n",
       "    .dataframe thead th {\n",
       "        text-align: right;\n",
       "    }\n",
       "</style>\n",
       "<table border=\"1\" class=\"dataframe\">\n",
       "  <thead>\n",
       "    <tr style=\"text-align: right;\">\n",
       "      <th></th>\n",
       "      <th>Date</th>\n",
       "      <th>all_news</th>\n",
       "    </tr>\n",
       "  </thead>\n",
       "  <tbody>\n",
       "    <tr>\n",
       "      <td>2051</td>\n",
       "      <td>2014-09-18</td>\n",
       "      <td>nan,nan,amazon gets all fired up,harmony takes...</td>\n",
       "    </tr>\n",
       "    <tr>\n",
       "      <td>2052</td>\n",
       "      <td>2014-09-19</td>\n",
       "      <td>nan,nan,android l will keep your secrets safer...</td>\n",
       "    </tr>\n",
       "    <tr>\n",
       "      <td>2053</td>\n",
       "      <td>2014-09-20</td>\n",
       "      <td>nan,nan,gadget dreams and nightmaresgadget ogl...</td>\n",
       "    </tr>\n",
       "    <tr>\n",
       "      <td>2054</td>\n",
       "      <td>2014-09-22</td>\n",
       "      <td>nan,nan,sony's playstation tv could be a busy ...</td>\n",
       "    </tr>\n",
       "    <tr>\n",
       "      <td>2055</td>\n",
       "      <td>2014-09-23</td>\n",
       "      <td>nan,nan,pants on fire, schmidt tells climate c...</td>\n",
       "    </tr>\n",
       "  </tbody>\n",
       "</table>\n",
       "</div>"
      ],
      "text/plain": [
       "            Date                                           all_news\n",
       "2051  2014-09-18  nan,nan,amazon gets all fired up,harmony takes...\n",
       "2052  2014-09-19  nan,nan,android l will keep your secrets safer...\n",
       "2053  2014-09-20  nan,nan,gadget dreams and nightmaresgadget ogl...\n",
       "2054  2014-09-22  nan,nan,sony's playstation tv could be a busy ...\n",
       "2055  2014-09-23  nan,nan,pants on fire, schmidt tells climate c..."
      ]
     },
     "execution_count": 52,
     "metadata": {},
     "output_type": "execute_result"
    }
   ],
   "source": [
    "news_data.head()"
   ]
  },
  {
   "cell_type": "code",
   "execution_count": 53,
   "metadata": {},
   "outputs": [],
   "source": [
    "news_data.to_csv(\"../data/reuter_technewsworld_data_merged.csv\",index=False)"
   ]
  },
  {
   "cell_type": "code",
   "execution_count": null,
   "metadata": {},
   "outputs": [],
   "source": []
  }
 ],
 "metadata": {
  "kernelspec": {
   "display_name": "Python 3",
   "language": "python",
   "name": "python3"
  },
  "language_info": {
   "codemirror_mode": {
    "name": "ipython",
    "version": 3
   },
   "file_extension": ".py",
   "mimetype": "text/x-python",
   "name": "python",
   "nbconvert_exporter": "python",
   "pygments_lexer": "ipython3",
   "version": "3.7.4"
  }
 },
 "nbformat": 4,
 "nbformat_minor": 2
}
